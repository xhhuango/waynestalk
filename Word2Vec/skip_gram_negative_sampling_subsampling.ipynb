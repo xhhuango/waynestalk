{
 "cells": [
  {
   "cell_type": "code",
   "id": "initial_id",
   "metadata": {
    "collapsed": true,
    "ExecuteTime": {
     "end_time": "2025-03-03T02:08:01.346612Z",
     "start_time": "2025-03-03T02:08:00.327182Z"
    }
   },
   "source": [
    "import time\n",
    "\n",
    "import matplotlib.pyplot as plt\n",
    "import nltk\n",
    "import numpy as np\n",
    "import torch\n",
    "import torch.nn as nn\n",
    "import torch.optim as optim\n",
    "import wikipediaapi"
   ],
   "outputs": [],
   "execution_count": 1
  },
  {
   "metadata": {
    "ExecuteTime": {
     "end_time": "2025-03-03T02:08:02.415275Z",
     "start_time": "2025-03-03T02:08:01.352162Z"
    }
   },
   "cell_type": "code",
   "source": [
    "wiki = wikipediaapi.Wikipedia(user_agent=\"waynestalk/1.0\", language=\"en\")\n",
    "page = wiki.page(\"Oolong\")\n",
    "corpus = page.text\n",
    "\n",
    "nltk.download(\"punkt\")\n",
    "sentences = nltk.sent_tokenize(corpus)\n",
    "tokenized_corpus = [[word.lower() for word in nltk.word_tokenize(sentence) if word.isalpha()] for sentence in sentences]\n",
    "tokenized_corpus[:5]"
   ],
   "id": "e0cc8cdd1ae95849",
   "outputs": [
    {
     "name": "stderr",
     "output_type": "stream",
     "text": [
      "[nltk_data] Downloading package punkt to /Users/wayne/nltk_data...\n",
      "[nltk_data]   Package punkt is already up-to-date!\n"
     ]
    },
    {
     "data": {
      "text/plain": [
       "[['oolong',\n",
       "  'uk',\n",
       "  'us',\n",
       "  'simplified',\n",
       "  'chinese',\n",
       "  '乌龙茶',\n",
       "  'traditional',\n",
       "  'chinese',\n",
       "  '烏龍茶',\n",
       "  'pinyin',\n",
       "  'wūlóngchá',\n",
       "  'tê',\n",
       "  'black',\n",
       "  'dragon',\n",
       "  'tea',\n",
       "  'is',\n",
       "  'a',\n",
       "  'traditional',\n",
       "  'chinese',\n",
       "  'tea',\n",
       "  'camellia',\n",
       "  'sinensis',\n",
       "  'produced',\n",
       "  'through',\n",
       "  'a',\n",
       "  'process',\n",
       "  'that',\n",
       "  'includes',\n",
       "  'withering',\n",
       "  'the',\n",
       "  'leaves',\n",
       "  'under',\n",
       "  'strong',\n",
       "  'sun',\n",
       "  'and',\n",
       "  'allowing',\n",
       "  'some',\n",
       "  'oxidation',\n",
       "  'to',\n",
       "  'occur',\n",
       "  'before',\n",
       "  'curling',\n",
       "  'and',\n",
       "  'twisting'],\n",
       " ['most',\n",
       "  'oolong',\n",
       "  'teas',\n",
       "  'especially',\n",
       "  'those',\n",
       "  'of',\n",
       "  'fine',\n",
       "  'quality',\n",
       "  'involve',\n",
       "  'unique',\n",
       "  'tea',\n",
       "  'plant',\n",
       "  'cultivars',\n",
       "  'that',\n",
       "  'are',\n",
       "  'exclusively',\n",
       "  'used',\n",
       "  'for',\n",
       "  'particular',\n",
       "  'varieties'],\n",
       " ['the',\n",
       "  'degree',\n",
       "  'of',\n",
       "  'oxidation',\n",
       "  'which',\n",
       "  'is',\n",
       "  'controlled',\n",
       "  'by',\n",
       "  'the',\n",
       "  'length',\n",
       "  'of',\n",
       "  'time',\n",
       "  'between',\n",
       "  'picking',\n",
       "  'and',\n",
       "  'final',\n",
       "  'drying',\n",
       "  'can',\n",
       "  'range',\n",
       "  'from',\n",
       "  'to',\n",
       "  'depending',\n",
       "  'on',\n",
       "  'the',\n",
       "  'variety',\n",
       "  'and',\n",
       "  'production',\n",
       "  'style'],\n",
       " ['oolong',\n",
       "  'is',\n",
       "  'especially',\n",
       "  'popular',\n",
       "  'in',\n",
       "  'southeastern',\n",
       "  'china',\n",
       "  'and',\n",
       "  'among',\n",
       "  'ethnic',\n",
       "  'chinese',\n",
       "  'in',\n",
       "  'southeast',\n",
       "  'asia',\n",
       "  'as',\n",
       "  'is',\n",
       "  'the',\n",
       "  'fujian',\n",
       "  'preparation',\n",
       "  'process',\n",
       "  'known',\n",
       "  'as',\n",
       "  'the',\n",
       "  'gongfu',\n",
       "  'tea',\n",
       "  'ceremony'],\n",
       " ['different',\n",
       "  'styles',\n",
       "  'of',\n",
       "  'oolong',\n",
       "  'tea',\n",
       "  'can',\n",
       "  'vary',\n",
       "  'widely',\n",
       "  'in',\n",
       "  'flavor']]"
      ]
     },
     "execution_count": 2,
     "metadata": {},
     "output_type": "execute_result"
    }
   ],
   "execution_count": 2
  },
  {
   "metadata": {
    "ExecuteTime": {
     "end_time": "2025-03-03T02:08:02.453791Z",
     "start_time": "2025-03-03T02:08:02.451511Z"
    }
   },
   "cell_type": "code",
   "source": [
    "vocab = set([word for sentence in tokenized_corpus for word in sentence])\n",
    "word_to_index = {word: i for i, word in enumerate(vocab)}\n",
    "index_to_word = {i: word for i, word in enumerate(vocab)}\n",
    "len(vocab)"
   ],
   "id": "8c3a4aea3e3d5d75",
   "outputs": [
    {
     "data": {
      "text/plain": [
       "580"
      ]
     },
     "execution_count": 3,
     "metadata": {},
     "output_type": "execute_result"
    }
   ],
   "execution_count": 3
  },
  {
   "metadata": {
    "ExecuteTime": {
     "end_time": "2025-03-03T02:08:02.460727Z",
     "start_time": "2025-03-03T02:08:02.458660Z"
    }
   },
   "cell_type": "code",
   "source": [
    "word_frequency = np.zeros(len(vocab))\n",
    "for sentence in tokenized_corpus:\n",
    "    for word in sentence:\n",
    "        word_frequency[word_to_index[word]] += 1\n",
    "word_frequency = word_frequency / word_frequency.sum()"
   ],
   "id": "c78a9190a2cc7395",
   "outputs": [],
   "execution_count": 4
  },
  {
   "metadata": {
    "ExecuteTime": {
     "end_time": "2025-03-03T02:08:02.474098Z",
     "start_time": "2025-03-03T02:08:02.470872Z"
    }
   },
   "cell_type": "code",
   "source": [
    "subsampling_threshold = 1e-5\n",
    "\n",
    "subsampled_tokenized_corpus = []\n",
    "for sentence in tokenized_corpus:\n",
    "    new_sentence = []\n",
    "    for word in sentence:\n",
    "        index = word_to_index[word]\n",
    "        frequency = word_frequency[index]\n",
    "        if frequency > subsampling_threshold:\n",
    "            drop_probability = 1 - np.sqrt(subsampling_threshold / frequency)\n",
    "        else:\n",
    "            drop_probability = 0\n",
    "\n",
    "        if np.random.rand() > drop_probability:\n",
    "            new_sentence.append(word)\n",
    "\n",
    "    if len(new_sentence) > 0:\n",
    "        subsampled_tokenized_corpus.append(new_sentence)\n",
    "\n",
    "print(subsampled_tokenized_corpus[:5])"
   ],
   "id": "799481f84a25dd1",
   "outputs": [
    {
     "name": "stdout",
     "output_type": "stream",
     "text": [
      "[['乌龙茶', 'camellia'], ['unique', 'cultivars'], ['oxidation'], ['china', 'asia', 'preparation'], ['or', 'style']]\n"
     ]
    }
   ],
   "execution_count": 5
  },
  {
   "metadata": {
    "ExecuteTime": {
     "end_time": "2025-03-03T02:08:02.493274Z",
     "start_time": "2025-03-03T02:08:02.490456Z"
    }
   },
   "cell_type": "code",
   "source": [
    "window_size = 2\n",
    "training_pairs = []\n",
    "\n",
    "for sentence in subsampled_tokenized_corpus:\n",
    "    for i, target_word in enumerate(sentence):\n",
    "        context_indices = (list(range(max(i - window_size, 0), i)) +\n",
    "                           list(range(i + 1, min(i + window_size, len(sentence)))))\n",
    "        for context_index in context_indices:\n",
    "            training_pairs.append((target_word, sentence[context_index]))\n",
    "training_pairs[:5]"
   ],
   "id": "d1e16dce20e49bad",
   "outputs": [
    {
     "data": {
      "text/plain": [
       "[('乌龙茶', 'camellia'),\n",
       " ('camellia', '乌龙茶'),\n",
       " ('unique', 'cultivars'),\n",
       " ('cultivars', 'unique'),\n",
       " ('china', 'asia')]"
      ]
     },
     "execution_count": 6,
     "metadata": {},
     "output_type": "execute_result"
    }
   ],
   "execution_count": 6
  },
  {
   "metadata": {
    "ExecuteTime": {
     "end_time": "2025-03-03T02:08:02.509072Z",
     "start_time": "2025-03-03T02:08:02.506634Z"
    }
   },
   "cell_type": "code",
   "source": [
    "word_frequency = np.zeros(len(vocab))\n",
    "for sentence in subsampled_tokenized_corpus:\n",
    "    for word in sentence:\n",
    "        word_frequency[word_to_index[word]] += 1\n",
    "unigram_distribution = word_frequency / word_frequency.sum()\n",
    "\n",
    "unigram_distribution = unigram_distribution ** (3 / 4)\n",
    "unigram_distribution = unigram_distribution / unigram_distribution.sum()\n",
    "print(f\"Unigram distribution: {unigram_distribution[:5]}\")\n",
    "\n",
    "def get_negative_samples(num_samples, context_index):\n",
    "    negative_samples = []\n",
    "    while len(negative_samples) < num_samples:\n",
    "        sample_index = np.random.choice(len(vocab), p=unigram_distribution)\n",
    "        if sample_index != context_index:\n",
    "            negative_samples.append(sample_index)\n",
    "    return negative_samples"
   ],
   "id": "1e7913de211190f",
   "outputs": [
    {
     "name": "stdout",
     "output_type": "stream",
     "text": [
      "Unigram distribution: [0.         0.         0.00907826 0.00907826 0.00907826]\n"
     ]
    }
   ],
   "execution_count": 7
  },
  {
   "metadata": {
    "ExecuteTime": {
     "end_time": "2025-03-03T02:08:02.519950Z",
     "start_time": "2025-03-03T02:08:02.517685Z"
    }
   },
   "cell_type": "code",
   "source": [
    "class SkipGramWithNegativeSamplingAndSubsamplingOfFrequentWords(nn.Module):\n",
    "    def __init__(self, vocab_size, embedding_dim):\n",
    "        super(SkipGramWithNegativeSamplingAndSubsamplingOfFrequentWords, self).__init__()\n",
    "        self.input_embedding = nn.Embedding(vocab_size, embedding_dim)\n",
    "        self.output_embedding = nn.Embedding(vocab_size, embedding_dim)\n",
    "        nn.init.uniform_(self.input_embedding.weight, a=-0.5, b=0.5)\n",
    "        nn.init.uniform_(self.output_embedding.weight, a=-0.5, b=0.5)\n",
    "\n",
    "    def forward(self, target_word, context_word, negative_samples):\n",
    "        target_embedding = self.input_embedding(target_word)\n",
    "        context_embedding = self.output_embedding(context_word)\n",
    "        negative_samples_embeddings = self.output_embedding(negative_samples)\n",
    "\n",
    "        pos_score = (target_embedding * context_embedding).sum(dim=1)\n",
    "        pos_loss = -torch.sigmoid(pos_score).log()\n",
    "\n",
    "        neg_score = torch.bmm(negative_samples_embeddings, target_embedding.unsqueeze(2)).squeeze(2)\n",
    "        neg_loss = -torch.sigmoid(-neg_score).log()\n",
    "        neg_loss = neg_loss.sum(dim=1)\n",
    "\n",
    "        return (pos_loss + neg_loss).mean()"
   ],
   "id": "5ff9a4f1eac73edc",
   "outputs": [],
   "execution_count": 8
  },
  {
   "metadata": {
    "ExecuteTime": {
     "end_time": "2025-03-03T02:08:29.340400Z",
     "start_time": "2025-03-03T02:08:02.528972Z"
    }
   },
   "cell_type": "code",
   "source": [
    "model = SkipGramWithNegativeSamplingAndSubsamplingOfFrequentWords(len(vocab), 1000)\n",
    "\n",
    "num_negative_samples = 5\n",
    "optimizer = optim.SGD(model.parameters(), lr=0.01)\n",
    "epochs = 500\n",
    "\n",
    "start_time = time.time()\n",
    "\n",
    "for epoch in range(epochs):\n",
    "    total_loss = 0\n",
    "    for target, context in training_pairs:\n",
    "        target_tensor = torch.tensor([word_to_index[target]], dtype=torch.long)\n",
    "        context_index = word_to_index[context]\n",
    "        context_tensor = torch.tensor([context_index], dtype=torch.long)\n",
    "        negative_samples_tensor = torch.tensor(\n",
    "            [get_negative_samples(num_negative_samples, context_index)], dtype=torch.long\n",
    "        )\n",
    "        loss = model(target_tensor, context_tensor, negative_samples_tensor)\n",
    "        optimizer.zero_grad()\n",
    "        loss.backward()\n",
    "        optimizer.step()\n",
    "        total_loss += loss.item()\n",
    "\n",
    "    if epoch == 0 or (epoch + 1) % 100 == 0:\n",
    "        print(f\"Epoch: {epoch}, Loss: {total_loss}\")\n",
    "\n",
    "end_time = time.time()\n",
    "print(f\"Training time: {end_time - start_time} seconds\")"
   ],
   "id": "db907af3d2db691b",
   "outputs": [
    {
     "name": "stdout",
     "output_type": "stream",
     "text": [
      "Epoch: 0, Loss: 953.0108479261398\n",
      "Epoch: 99, Loss: 56.98700549826026\n",
      "Epoch: 199, Loss: 25.619574746116996\n",
      "Epoch: 299, Loss: 28.435157721862197\n",
      "Epoch: 399, Loss: 14.342244805768132\n",
      "Epoch: 499, Loss: 15.597246480174363\n",
      "Training time: 26.50890588760376 seconds\n"
     ]
    }
   ],
   "execution_count": 9
  },
  {
   "metadata": {
    "ExecuteTime": {
     "end_time": "2025-03-03T02:08:29.352296Z",
     "start_time": "2025-03-03T02:08:29.348008Z"
    }
   },
   "cell_type": "code",
   "source": [
    "word = \"oolong\"\n",
    "word_index_tensor = torch.tensor(word_to_index[word], dtype=torch.long)\n",
    "embedding_vector = model.input_embedding(word_index_tensor).detach().numpy()\n",
    "print(f\"Embedding {embedding_vector.shape} for '{word}': {embedding_vector}\")"
   ],
   "id": "ebe2cbdd7901acb2",
   "outputs": [
    {
     "name": "stdout",
     "output_type": "stream",
     "text": [
      "Embedding (1000,) for 'oolong': [ 0.13189985 -0.25496143  0.51970583  0.25617576 -0.34980902 -0.02285258\n",
      " -0.14283995  0.35931548 -0.0637873   0.06834268  0.00348544  0.1350143\n",
      "  0.2858373   0.3402762  -0.05322415 -0.20072047  0.29839274 -0.33350673\n",
      " -0.13919283  0.11974719 -0.22314733  0.1529854  -0.3261046  -0.11149702\n",
      "  0.23359121 -0.2360381  -0.27994573  0.40624875 -0.39444476  0.41071448\n",
      "  0.2772     -0.20734717  0.21492502  0.18928511 -0.41928908 -0.02320498\n",
      "  0.19196208 -0.15601465 -0.07431732 -0.02700155 -0.46230295  0.2710704\n",
      " -0.12911941  0.00890741  0.4588663  -0.10221377  0.23932707  0.5104639\n",
      " -0.01998178  0.2811197   0.29300243 -0.19995907 -0.03476963 -0.5170644\n",
      "  0.07622161 -0.30323905 -0.3092277   0.24631183 -0.35710332 -0.29359934\n",
      "  0.39236072  0.45736858 -0.28203818  0.09969924  0.4905463   0.16109492\n",
      "  0.08776315 -0.3444617  -0.28931487 -0.28463987  0.30379513  0.45471814\n",
      "  0.06018714  0.30079618 -0.3697482  -0.14671855 -0.03800165 -0.04491345\n",
      " -0.03412267  0.37637484 -0.21108215  0.4003798   0.2661074   0.3014529\n",
      "  0.08962788  0.14308426 -0.33493397  0.5729912  -0.09563915 -0.42305818\n",
      " -0.38518402 -0.4520444  -0.15235455 -0.03330761 -0.48891053 -0.18104945\n",
      " -0.22313647 -0.08432094  0.12040704 -0.00252501  0.3575698  -0.3654424\n",
      " -0.32644185 -0.03586896 -0.32228085  0.39805123 -0.0336616   0.13412814\n",
      " -0.42813936  0.22174475 -0.00280708  0.04405624  0.02458719  0.03666709\n",
      " -0.4529706  -0.19562986 -0.5183789  -0.03659347  0.28962457 -0.11190074\n",
      "  0.3086091  -0.47945586 -0.00790624 -0.31847778  0.47386065 -0.19852164\n",
      "  0.2624307  -0.3036994   0.2527417  -0.37331012  0.14938268 -0.33531854\n",
      " -0.3983487   0.5001212   0.14628899  0.48056158 -0.07488219 -0.21626079\n",
      "  0.07291523  0.13992201  0.18354732 -0.00943878 -0.10456326  0.47549325\n",
      "  0.25339592  0.16371404 -0.35622796  0.08665712 -0.11931022 -0.6083432\n",
      " -0.27331907  0.18328632  0.46342573  0.12844153  0.33052292 -0.08796232\n",
      " -0.41925487  0.20658858  0.3429425  -0.29382998 -0.44550467 -0.24074337\n",
      " -0.38000587  0.42614335 -0.46562788  0.18317112  0.28013742  0.17646226\n",
      " -0.33479849  0.10915852 -0.16482525  0.05608391  0.44397545 -0.47284675\n",
      " -0.012417   -0.30885217  0.36481765  0.05073775 -0.22533692  0.29621038\n",
      " -0.3826682  -0.37604594 -0.25393328  0.02298235 -0.62742186 -0.17821522\n",
      "  0.2892221   0.22676197 -0.16275458 -0.03884865  0.5103744  -0.25584507\n",
      "  0.3273904   0.06825607  0.35946274 -0.5774174   0.0967035  -0.2968852\n",
      " -0.13158695  0.23678224  0.23512396 -0.4389019  -0.02647427  0.56413454\n",
      "  0.1125166   0.4298714  -0.19811803 -0.09154385 -0.52974653  0.1687432\n",
      " -0.09682024 -0.36153954  0.3657718  -0.11027149 -0.41078094  0.13912569\n",
      "  0.42426386 -0.00675738  0.29028824 -0.07832587  0.24546699  0.29847714\n",
      "  0.31116977 -0.03448473 -0.5474351   0.36136255 -0.31545624  0.2531928\n",
      "  0.15290427 -0.36508706 -0.3212999   0.04648303  0.47498426 -0.12084092\n",
      " -0.18962583 -0.00690462 -0.2628622   0.00453494 -0.4244855  -0.43903887\n",
      "  0.01941078 -0.4469259  -0.19285978  0.0459931   0.40616933  0.06603384\n",
      " -0.13705212  0.0936885   0.24842104 -0.3089706  -0.06960704 -0.4395036\n",
      "  0.14720526 -0.05227346  0.1299862   0.39411867  0.15660337  0.39182806\n",
      "  0.43186215  0.4313209  -0.21845213 -0.45451576  0.29837602  0.3452898\n",
      "  0.08740909 -0.27481303 -0.28236118  0.17063801 -0.36876762  0.50627804\n",
      "  0.02176418  0.11595107 -0.2785171  -0.41124424  0.12240318  0.2967284\n",
      " -0.41667902  0.22149509 -0.28517702 -0.22652206 -0.19666223 -0.38224927\n",
      " -0.30410048 -0.10842192 -0.01298367  0.17209479  0.22728841  0.15278473\n",
      " -0.2223434   0.01582614 -0.09399123  0.4608305  -0.25314876  0.04399326\n",
      " -0.3593001  -0.40700588  0.01955546  0.4748149   0.10312022  0.04002293\n",
      " -0.33981857  0.13089904 -0.3195698  -0.1504921  -0.14015234  0.36529097\n",
      "  0.04498063  0.5184953   0.3775402  -0.31221125 -0.3565656   0.05351247\n",
      "  0.4315391   0.1053383  -0.02668999 -0.49337968 -0.44422102  0.25339484\n",
      "  0.29224813 -0.47393116  0.33458418 -0.18503384  0.18398058  0.02891459\n",
      " -0.23148194 -0.3593862  -0.09058615 -0.03626395 -0.03726241 -0.28510123\n",
      " -0.27100214  0.06948266 -0.05283901  0.48356056  0.3232573   0.36479342\n",
      "  0.22066563  0.3111499   0.07673077  0.38285434  0.03029345  0.5842364\n",
      "  0.0943885   0.39120027  0.45488036  0.21936534  0.10602078 -0.01849371\n",
      "  0.45594335  0.34899712  0.4552881  -0.37713525  0.21949549  0.0753798\n",
      " -0.42434832  0.2719622  -0.3561284   0.38932458  0.4055363  -0.20138665\n",
      "  0.16376233 -0.02909153  0.40868512  0.44200298  0.39687097 -0.28344816\n",
      "  0.28126687 -0.42592892 -0.27733073 -0.07290202  0.36164254 -0.32180154\n",
      " -0.52755207  0.2798932  -0.5010745  -0.20368427 -0.08428869 -0.5185592\n",
      "  0.53417665 -0.27172202 -0.13546821  0.08768001  0.3104366  -0.3595344\n",
      "  0.38103634 -0.404011   -0.25572482  0.42633203  0.1847955  -0.33124292\n",
      " -0.04645232 -0.23467655  0.4836413   0.45061424  0.12339976  0.46550432\n",
      " -0.3405646   0.41370323 -0.06202179 -0.02067035  0.42631638  0.18992591\n",
      "  0.01182145 -0.00385709  0.06311231  0.0490544   0.15620756  0.10463829\n",
      "  0.43745643  0.40551403 -0.10796635  0.36567795  0.29505196  0.09971071\n",
      " -0.07674288  0.28735593  0.27747023  0.33160326 -0.37621456 -0.35563317\n",
      "  0.38249463 -0.04388383 -0.48191473  0.2372146   0.28022107 -0.03842789\n",
      " -0.45202643  0.3244984  -0.36840174  0.28947875 -0.21363272  0.16362785\n",
      "  0.05847032 -0.26300356  0.01046383 -0.37248617 -0.5584913   0.31223187\n",
      "  0.07659002 -0.5388187   0.48521176 -0.09640556 -0.28871375  0.15304433\n",
      " -0.4997358   0.08908708  0.21170434  0.26149878 -0.35333848 -0.21684563\n",
      " -0.5697448   0.3380217   0.06601044  0.26010567 -0.48947003  0.35890427\n",
      "  0.12871845 -0.452762   -0.3645722   0.52394545  0.01383704 -0.30392164\n",
      "  0.5488813  -0.01827653  0.1849145   0.4625626  -0.39772877 -0.22595592\n",
      "  0.21087763  0.4263716   0.04757043 -0.25520688  0.35124847  0.03135823\n",
      " -0.5395677   0.37168097 -0.33581492 -0.09505955 -0.4219503  -0.12543577\n",
      " -0.12270274  0.34409565 -0.377969    0.05486125 -0.0089438   0.39505002\n",
      " -0.18385936  0.02216597  0.14914954 -0.18632899  0.50431776  0.29179662\n",
      " -0.03778835  0.19155404  0.11493148 -0.09196326 -0.11520832 -0.12597507\n",
      "  0.1227127   0.24480587 -0.24900593 -0.28426734 -0.2643068   0.16693632\n",
      "  0.00899604  0.02591116  0.26972955  0.06684017 -0.02248029  0.24141073\n",
      " -0.04980119  0.01098783  0.34145433  0.02972729  0.40383577  0.41684213\n",
      "  0.15931246  0.0132987   0.05692096 -0.30216846  0.4007251  -0.12966076\n",
      "  0.31788653  0.14153315 -0.09857227  0.33651087  0.281601    0.34577098\n",
      " -0.31684816 -0.297364   -0.51300037  0.19648418 -0.08680505 -0.36405993\n",
      " -0.19226237  0.14124547  0.13778418  0.23670115  0.16917868 -0.35860288\n",
      " -0.00593384 -0.23708826  0.27471164  0.4140517   0.21568671  0.1134576\n",
      " -0.07328738 -0.04002007  0.24715151 -0.23136966 -0.14791775  0.04695303\n",
      "  0.4549442  -0.1590335   0.28770694  0.14617045  0.29272157 -0.2812105\n",
      "  0.13053273  0.4063347   0.42703643  0.3279358  -0.37483254 -0.08661154\n",
      "  0.18019709  0.4890103   0.31659606 -0.29208893  0.04536895 -0.42357716\n",
      "  0.15614285 -0.17312023  0.03381687  0.19309704  0.09286314  0.00365974\n",
      "  0.57665807 -0.26536417  0.25831538 -0.01893832  0.00255449 -0.3225479\n",
      "  0.10184288  0.22662593  0.24258393  0.4093674   0.01845812 -0.27517098\n",
      " -0.30465078 -0.03366083 -0.3414672   0.18266012  0.39100704 -0.41250837\n",
      " -0.23437436 -0.2408513  -0.01472859  0.11368732  0.2489669  -0.28559318\n",
      " -0.28176928  0.05521309  0.11830872 -0.04380506 -0.11587141  0.36949906\n",
      " -0.3896343  -0.20059825  0.30955517  0.07540055 -0.03233479  0.44330218\n",
      "  0.33501253 -0.03849952 -0.44406903  0.02124143  0.45009494 -0.29248896\n",
      " -0.32762477 -0.12457124  0.14837718  0.01846612  0.2358847   0.22242987\n",
      " -0.12146907 -0.0823061  -0.31181747  0.23214377  0.47349405 -0.18978319\n",
      "  0.10530836  0.22920255  0.32758665  0.41400433 -0.13795687  0.31078595\n",
      " -0.07859965 -0.03881446  0.08226975  0.3947775  -0.23009911 -0.16580677\n",
      " -0.02136969 -0.12064066  0.1086294  -0.23206836 -0.188405    0.36252716\n",
      " -0.19821994  0.1495517   0.21415521  0.08374048  0.38606146  0.64299494\n",
      " -0.39986402  0.36626452 -0.2599432  -0.48214427 -0.03637678  0.01507011\n",
      "  0.32406533 -0.31141636 -0.09670706 -0.36658752  0.31625813  0.02458111\n",
      "  0.38285828  0.4590284   0.43508497  0.4268831   0.26666248 -0.30752528\n",
      " -0.36360523 -0.09218439 -0.3240164  -0.20769827 -0.33079568  0.0841218\n",
      "  0.2648332   0.41551447  0.14283158  0.29525495 -0.32022077 -0.3616919\n",
      " -0.22118624  0.18597896  0.36419088 -0.0679298   0.45557433 -0.03367078\n",
      "  0.2984952   0.391553   -0.1367594  -0.4948373   0.5351782   0.0912568\n",
      "  0.32480863 -0.08099748  0.16432355 -0.1235754  -0.40755716  0.24394809\n",
      " -0.1101906   0.37686265 -0.31850037 -0.38620993 -0.20496184 -0.39081958\n",
      "  0.4816456   0.07380652 -0.045421    0.05881955  0.25954768  0.21704592\n",
      " -0.49896201  0.14227143  0.3548764  -0.04376261  0.14156598 -0.33375794\n",
      "  0.37931108 -0.2576307   0.16336927 -0.25179097  0.59649307 -0.05056375\n",
      " -0.16156907 -0.18915093 -0.38330874  0.39664483 -0.5017344   0.0406766\n",
      "  0.09192403  0.3965756  -0.3517151   0.45175326 -0.31808698  0.03945357\n",
      "  0.5356478  -0.16941714  0.49244297 -0.242761   -0.07421143 -0.3711162\n",
      "  0.02282664  0.09123755  0.36188146 -0.32072812 -0.34422162 -0.24384533\n",
      " -0.0158128   0.28835046 -0.05494044  0.03539573 -0.19396587  0.4398016\n",
      "  0.10676868 -0.5374338   0.30268744 -0.20494708  0.3246118   0.42984933\n",
      " -0.43953332 -0.31722885 -0.00580229 -0.28521064 -0.03497978  0.03649919\n",
      "  0.6542566   0.06278706 -0.06645048  0.20844656  0.3685806  -0.16046676\n",
      "  0.39424822  0.39388326  0.03017552  0.6058532  -0.44180644  0.08570977\n",
      "  0.0177757   0.10551944 -0.3992219  -0.08465952 -0.43997127  0.23325315\n",
      " -0.07797088  0.01761883  0.32914186  0.24231623 -0.3601213  -0.34071198\n",
      "  0.01980704 -0.13525923  0.1054994   0.44404346 -0.1898974   0.0725253\n",
      "  0.03293777  0.09261167  0.33634028  0.23166187 -0.35862902 -0.30334154\n",
      " -0.3433297  -0.0313695  -0.23925333 -0.23136191 -0.14691322  0.36052656\n",
      "  0.3453421   0.12443282 -0.4155551  -0.3624071   0.22066988 -0.51208395\n",
      "  0.42013112 -0.20540081  0.38214982 -0.4838804   0.15804     0.14272667\n",
      " -0.31602824 -0.02982187  0.25393674 -0.06179924  0.21532811 -0.23360977\n",
      " -0.28735578 -0.36379847  0.25882208  0.23122272 -0.32614225 -0.09459597\n",
      " -0.18829475  0.09584716  0.5212369  -0.2685561   0.13105674  0.4295631\n",
      "  0.07848984  0.06945336  0.33901176 -0.42427415  0.03202304 -0.13358429\n",
      " -0.3460777   0.5176162   0.28688395  0.29163295 -0.47127542 -0.40157306\n",
      " -0.12664317  0.33826238 -0.05034534  0.03578664 -0.4334004   0.28782904\n",
      " -0.4973578  -0.12591942 -0.37865275 -0.13998666  0.59106493 -0.3097356\n",
      " -0.4822798   0.00268349 -0.5398345  -0.1385413   0.36304015 -0.40397072\n",
      " -0.18212661 -0.06625456  0.23357832  0.31337667  0.30722252  0.10608382\n",
      "  0.19338016  0.48320523  0.48670503 -0.29273355  0.3063882  -0.3931421\n",
      " -0.40250573  0.27301145  0.08757435 -0.4320202  -0.27169916  0.454407\n",
      " -0.33163086  0.33390075  0.09911479  0.438339   -0.05078858 -0.42665023\n",
      "  0.47987378  0.08452599  0.32032895 -0.1006992  -0.1097393  -0.18584237\n",
      "  0.2742947   0.24035087  0.33822092  0.12103598 -0.01544592 -0.27770507\n",
      " -0.40922767 -0.06651081  0.43511418  0.1969853  -0.21596941 -0.04768383\n",
      " -0.2825746  -0.18253264 -0.37881604  0.10038163 -0.2855406  -0.4332987\n",
      "  0.2582508   0.5185979  -0.02513568 -0.12850983  0.2394624   0.06109791\n",
      "  0.19433941 -0.22935303  0.2175232  -0.37621748 -0.2555444   0.00505359\n",
      " -0.39067426 -0.23977704  0.39839363  0.1190518  -0.3227014  -0.16586907\n",
      " -0.3711356   0.15409692 -0.23696236  0.08377016 -0.16725391  0.09809297\n",
      " -0.1731216   0.40200588  0.231015    0.1697052   0.38571078 -0.41856992\n",
      " -0.09030328 -0.08267925  0.39858735 -0.31159982 -0.35254577 -0.26889375\n",
      "  0.34267813  0.21217084  0.30877236 -0.00972329 -0.47507712 -0.360764\n",
      "  0.42760202 -0.00699041  0.21451522  0.30036998 -0.12408677 -0.3798916\n",
      " -0.07068528  0.03562308 -0.33486274  0.06488656  0.4934739  -0.20678888\n",
      " -0.170827    0.05002357  0.44142905 -0.5354832  -0.2524858   0.41760024\n",
      "  0.19875078 -0.32173553  0.30093664 -0.20148303  0.43557423 -0.08284076\n",
      "  0.17255251 -0.1568742   0.3167629   0.5405814   0.00644885 -0.6024327\n",
      " -0.10002281  0.2621393   0.08074468  0.38984644 -0.32078713 -0.347171\n",
      " -0.14495601 -0.02577447  0.00347149  0.10363521]\n"
     ]
    }
   ],
   "execution_count": 10
  },
  {
   "metadata": {
    "ExecuteTime": {
     "end_time": "2025-03-03T02:08:29.362997Z",
     "start_time": "2025-03-03T02:08:29.359690Z"
    }
   },
   "cell_type": "code",
   "source": [
    "sentence1 = \"tea is popular in taiwan\".split()\n",
    "sentence2 = \"oolong is famous in taiwan\".split()\n",
    "sentence1_embeddings = [model.input_embedding(torch.tensor(word_to_index[word], dtype=torch.long)).detach() for word in sentence1]\n",
    "sentence2_embeddings = [model.input_embedding(torch.tensor(word_to_index[word], dtype=torch.long)).detach() for word in sentence2]\n",
    "vector1 = torch.stack(sentence1_embeddings).mean(dim=0)\n",
    "vector2 = torch.stack(sentence2_embeddings).mean(dim=0)\n",
    "cosine_sim = nn.CosineSimilarity(dim=0)\n",
    "similarity = cosine_sim(vector1, vector2).item()\n",
    "print(f\"Sentence 1: {sentence1}\")\n",
    "print(f\"Sentence 2: {sentence2}\")\n",
    "print(f\"Similarity between sentences: {similarity}\")"
   ],
   "id": "6b5cf7d4f80e7c94",
   "outputs": [
    {
     "name": "stdout",
     "output_type": "stream",
     "text": [
      "Sentence 1: ['tea', 'is', 'popular', 'in', 'taiwan']\n",
      "Sentence 2: ['oolong', 'is', 'famous', 'in', 'taiwan']\n",
      "Similarity between sentences: 0.6336144208908081\n"
     ]
    }
   ],
   "execution_count": 11
  },
  {
   "metadata": {
    "ExecuteTime": {
     "end_time": "2025-03-03T02:08:30.490022Z",
     "start_time": "2025-03-03T02:08:29.389614Z"
    }
   },
   "cell_type": "code",
   "source": [
    "word_embeddings_tensor = model.input_embedding.weight.detach()\n",
    "U, S, V = torch.pca_lowrank(word_embeddings_tensor, q=2)\n",
    "reduced_embeddings = U.numpy()\n",
    "\n",
    "plt.figure(figsize=(8, 6))\n",
    "\n",
    "for word, index in word_to_index.items():\n",
    "    x, y = reduced_embeddings[index]\n",
    "    plt.scatter(x, y, marker='o', color='blue')\n",
    "\n",
    "tea_index = word_to_index['tea']\n",
    "x, y = reduced_embeddings[tea_index]\n",
    "plt.scatter(x, y, marker='o', color='red')\n",
    "plt.text(x, y, 'tea', fontsize=8)\n",
    "\n",
    "oolong_index = word_to_index['oolong']\n",
    "x, y = reduced_embeddings[oolong_index]\n",
    "plt.scatter(x, y, marker='o', color='red')\n",
    "plt.text(x, y, 'oolong', fontsize=8)\n",
    "\n",
    "plt.xlabel(\"PCA Component 1\")\n",
    "plt.ylabel(\"PCA Component 2\")\n",
    "plt.title(\"Skip-Gram with Negative Sampling And Subsampling of Frequent Words Word Embeddings Visualization of Corpus 'Oolong`\")\n",
    "plt.grid(True)\n",
    "plt.show()"
   ],
   "id": "19c51d9d189b2300",
   "outputs": [
    {
     "data": {
      "text/plain": [
       "<Figure size 800x600 with 1 Axes>"
      ],
      "image/png": "[encoded data removed]"
     },
     "metadata": {},
     "output_type": "display_data"
    }
   ],
   "execution_count": 12
  }
 ],
 "metadata": {
  "kernelspec": {
   "display_name": "Python 3",
   "language": "python",
   "name": "python3"
  },
  "language_info": {
   "codemirror_mode": {
    "name": "ipython",
    "version": 2
   },
   "file_extension": ".py",
   "mimetype": "text/x-python",
   "name": "python",
   "nbconvert_exporter": "python",
   "pygments_lexer": "ipython2",
   "version": "2.7.6"
  }
 },
 "nbformat": 4,
 "nbformat_minor": 5
}
