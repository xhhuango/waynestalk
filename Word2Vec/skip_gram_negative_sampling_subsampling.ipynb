{
 "cells": [
  {
   "cell_type": "code",
   "id": "initial_id",
   "metadata": {
    "collapsed": true,
    "ExecuteTime": {
     "end_time": "2025-03-04T05:51:07.773353Z",
     "start_time": "2025-03-04T05:51:06.734182Z"
    }
   },
   "source": [
    "import time\n",
    "\n",
    "import matplotlib.pyplot as plt\n",
    "import nltk\n",
    "import numpy as np\n",
    "import torch\n",
    "import torch.nn as nn\n",
    "import torch.optim as optim\n",
    "import wikipediaapi"
   ],
   "outputs": [],
   "execution_count": 1
  },
  {
   "metadata": {
    "ExecuteTime": {
     "end_time": "2025-03-04T05:51:08.768944Z",
     "start_time": "2025-03-04T05:51:07.777080Z"
    }
   },
   "cell_type": "code",
   "source": [
    "wiki = wikipediaapi.Wikipedia(user_agent=\"waynestalk/1.0\", language=\"en\")\n",
    "page = wiki.page(\"Oolong\")\n",
    "corpus = page.text\n",
    "\n",
    "nltk.download(\"punkt\")\n",
    "sentences = nltk.sent_tokenize(corpus)\n",
    "tokenized_corpus = [[word.lower() for word in nltk.word_tokenize(sentence) if word.isalpha()] for sentence in sentences]\n",
    "tokenized_corpus[:5]"
   ],
   "id": "e0cc8cdd1ae95849",
   "outputs": [
    {
     "name": "stderr",
     "output_type": "stream",
     "text": [
      "[nltk_data] Downloading package punkt to /Users/wayne/nltk_data...\n",
      "[nltk_data]   Package punkt is already up-to-date!\n"
     ]
    },
    {
     "data": {
      "text/plain": [
       "[['oolong',\n",
       "  'uk',\n",
       "  'us',\n",
       "  'simplified',\n",
       "  'chinese',\n",
       "  '乌龙茶',\n",
       "  'traditional',\n",
       "  'chinese',\n",
       "  '烏龍茶',\n",
       "  'pinyin',\n",
       "  'wūlóngchá',\n",
       "  'tê',\n",
       "  'black',\n",
       "  'dragon',\n",
       "  'tea',\n",
       "  'is',\n",
       "  'a',\n",
       "  'traditional',\n",
       "  'chinese',\n",
       "  'tea',\n",
       "  'camellia',\n",
       "  'sinensis',\n",
       "  'produced',\n",
       "  'through',\n",
       "  'a',\n",
       "  'process',\n",
       "  'that',\n",
       "  'includes',\n",
       "  'withering',\n",
       "  'the',\n",
       "  'leaves',\n",
       "  'under',\n",
       "  'strong',\n",
       "  'sun',\n",
       "  'and',\n",
       "  'allowing',\n",
       "  'some',\n",
       "  'oxidation',\n",
       "  'to',\n",
       "  'occur',\n",
       "  'before',\n",
       "  'curling',\n",
       "  'and',\n",
       "  'twisting'],\n",
       " ['most',\n",
       "  'oolong',\n",
       "  'teas',\n",
       "  'especially',\n",
       "  'those',\n",
       "  'of',\n",
       "  'fine',\n",
       "  'quality',\n",
       "  'involve',\n",
       "  'unique',\n",
       "  'tea',\n",
       "  'plant',\n",
       "  'cultivars',\n",
       "  'that',\n",
       "  'are',\n",
       "  'exclusively',\n",
       "  'used',\n",
       "  'for',\n",
       "  'particular',\n",
       "  'varieties'],\n",
       " ['the',\n",
       "  'degree',\n",
       "  'of',\n",
       "  'oxidation',\n",
       "  'which',\n",
       "  'is',\n",
       "  'controlled',\n",
       "  'by',\n",
       "  'the',\n",
       "  'length',\n",
       "  'of',\n",
       "  'time',\n",
       "  'between',\n",
       "  'picking',\n",
       "  'and',\n",
       "  'final',\n",
       "  'drying',\n",
       "  'can',\n",
       "  'range',\n",
       "  'from',\n",
       "  'to',\n",
       "  'depending',\n",
       "  'on',\n",
       "  'the',\n",
       "  'variety',\n",
       "  'and',\n",
       "  'production',\n",
       "  'style'],\n",
       " ['oolong',\n",
       "  'is',\n",
       "  'especially',\n",
       "  'popular',\n",
       "  'in',\n",
       "  'southeastern',\n",
       "  'china',\n",
       "  'and',\n",
       "  'among',\n",
       "  'ethnic',\n",
       "  'chinese',\n",
       "  'in',\n",
       "  'southeast',\n",
       "  'asia',\n",
       "  'as',\n",
       "  'is',\n",
       "  'the',\n",
       "  'fujian',\n",
       "  'preparation',\n",
       "  'process',\n",
       "  'known',\n",
       "  'as',\n",
       "  'the',\n",
       "  'gongfu',\n",
       "  'tea',\n",
       "  'ceremony'],\n",
       " ['different',\n",
       "  'styles',\n",
       "  'of',\n",
       "  'oolong',\n",
       "  'tea',\n",
       "  'can',\n",
       "  'vary',\n",
       "  'widely',\n",
       "  'in',\n",
       "  'flavor']]"
      ]
     },
     "execution_count": 2,
     "metadata": {},
     "output_type": "execute_result"
    }
   ],
   "execution_count": 2
  },
  {
   "metadata": {
    "ExecuteTime": {
     "end_time": "2025-03-04T05:51:08.805976Z",
     "start_time": "2025-03-04T05:51:08.803661Z"
    }
   },
   "cell_type": "code",
   "source": [
    "vocab = set([word for sentence in tokenized_corpus for word in sentence])\n",
    "word_to_index = {word: i for i, word in enumerate(vocab)}\n",
    "index_to_word = {i: word for i, word in enumerate(vocab)}\n",
    "len(vocab)"
   ],
   "id": "8c3a4aea3e3d5d75",
   "outputs": [
    {
     "data": {
      "text/plain": [
       "580"
      ]
     },
     "execution_count": 3,
     "metadata": {},
     "output_type": "execute_result"
    }
   ],
   "execution_count": 3
  },
  {
   "metadata": {
    "ExecuteTime": {
     "end_time": "2025-03-04T05:51:08.811701Z",
     "start_time": "2025-03-04T05:51:08.810001Z"
    }
   },
   "cell_type": "code",
   "source": [
    "word_frequency = np.zeros(len(vocab))\n",
    "for sentence in tokenized_corpus:\n",
    "    for word in sentence:\n",
    "        word_frequency[word_to_index[word]] += 1\n",
    "word_frequency = word_frequency / word_frequency.sum()"
   ],
   "id": "c78a9190a2cc7395",
   "outputs": [],
   "execution_count": 4
  },
  {
   "metadata": {
    "ExecuteTime": {
     "end_time": "2025-03-04T05:51:08.822622Z",
     "start_time": "2025-03-04T05:51:08.819826Z"
    }
   },
   "cell_type": "code",
   "source": [
    "subsampling_threshold = 1e-5\n",
    "\n",
    "subsampled_tokenized_corpus = []\n",
    "for sentence in tokenized_corpus:\n",
    "    new_sentence = []\n",
    "    for word in sentence:\n",
    "        index = word_to_index[word]\n",
    "        frequency = word_frequency[index]\n",
    "        if frequency > subsampling_threshold:\n",
    "            drop_probability = 1 - np.sqrt(subsampling_threshold / frequency)\n",
    "        else:\n",
    "            drop_probability = 0\n",
    "\n",
    "        if np.random.rand() > drop_probability:\n",
    "            new_sentence.append(word)\n",
    "\n",
    "    if len(new_sentence) > 0:\n",
    "        subsampled_tokenized_corpus.append(new_sentence)\n",
    "\n",
    "print(subsampled_tokenized_corpus[:5])"
   ],
   "id": "799481f84a25dd1",
   "outputs": [
    {
     "name": "stdout",
     "output_type": "stream",
     "text": [
      "[['under'], ['fine', 'involve', 'for'], ['controlled', 'drying', 'range'], ['gongfu'], ['can']]\n"
     ]
    }
   ],
   "execution_count": 5
  },
  {
   "metadata": {
    "ExecuteTime": {
     "end_time": "2025-03-04T05:51:08.828309Z",
     "start_time": "2025-03-04T05:51:08.825801Z"
    }
   },
   "cell_type": "code",
   "source": [
    "window_size = 2\n",
    "training_pairs = []\n",
    "\n",
    "for sentence in subsampled_tokenized_corpus:\n",
    "    for i, target_word in enumerate(sentence):\n",
    "        context_indices = (list(range(max(i - window_size, 0), i)) +\n",
    "                           list(range(i + 1, min(i + window_size + 1, len(sentence)))))\n",
    "        for context_index in context_indices:\n",
    "            training_pairs.append((target_word, sentence[context_index]))\n",
    "training_pairs[:5]"
   ],
   "id": "d1e16dce20e49bad",
   "outputs": [
    {
     "data": {
      "text/plain": [
       "[('fine', 'involve'),\n",
       " ('fine', 'for'),\n",
       " ('involve', 'fine'),\n",
       " ('involve', 'for'),\n",
       " ('for', 'fine')]"
      ]
     },
     "execution_count": 6,
     "metadata": {},
     "output_type": "execute_result"
    }
   ],
   "execution_count": 6
  },
  {
   "metadata": {
    "ExecuteTime": {
     "end_time": "2025-03-04T05:51:08.835421Z",
     "start_time": "2025-03-04T05:51:08.833290Z"
    }
   },
   "cell_type": "code",
   "source": [
    "word_frequency = np.zeros(len(vocab))\n",
    "for sentence in subsampled_tokenized_corpus:\n",
    "    for word in sentence:\n",
    "        word_frequency[word_to_index[word]] += 1\n",
    "unigram_distribution = word_frequency / word_frequency.sum()\n",
    "\n",
    "unigram_distribution = unigram_distribution ** (3 / 4)\n",
    "unigram_distribution = unigram_distribution / unigram_distribution.sum()\n",
    "print(f\"Unigram distribution: {unigram_distribution[:5]}\")\n",
    "\n",
    "def get_negative_samples(num_samples, context_index):\n",
    "    negative_samples = []\n",
    "    while len(negative_samples) < num_samples:\n",
    "        sample_index = np.random.choice(len(vocab), p=unigram_distribution)\n",
    "        if sample_index != context_index:\n",
    "            negative_samples.append(sample_index)\n",
    "    return negative_samples"
   ],
   "id": "1e7913de211190f",
   "outputs": [
    {
     "name": "stdout",
     "output_type": "stream",
     "text": [
      "Unigram distribution: [0.         0.         0.         0.         0.00967459]\n"
     ]
    }
   ],
   "execution_count": 7
  },
  {
   "metadata": {
    "ExecuteTime": {
     "end_time": "2025-03-04T05:51:08.845057Z",
     "start_time": "2025-03-04T05:51:08.842921Z"
    }
   },
   "cell_type": "code",
   "source": [
    "class SkipGramWithNegativeSamplingAndSubsamplingOfFrequentWords(nn.Module):\n",
    "    def __init__(self, vocab_size, embedding_dim):\n",
    "        super(SkipGramWithNegativeSamplingAndSubsamplingOfFrequentWords, self).__init__()\n",
    "        self.input_embedding = nn.Embedding(vocab_size, embedding_dim)\n",
    "        self.output_embedding = nn.Embedding(vocab_size, embedding_dim)\n",
    "        nn.init.uniform_(self.input_embedding.weight, a=-0.5, b=0.5)\n",
    "        nn.init.uniform_(self.output_embedding.weight, a=-0.5, b=0.5)\n",
    "\n",
    "    def forward(self, target_word, context_word, negative_samples):\n",
    "        target_embedding = self.input_embedding(target_word)\n",
    "        context_embedding = self.output_embedding(context_word)\n",
    "        negative_samples_embeddings = self.output_embedding(negative_samples)\n",
    "\n",
    "        pos_score = (target_embedding * context_embedding).sum(dim=1)\n",
    "        pos_loss = -torch.sigmoid(pos_score).log()\n",
    "\n",
    "        neg_score = torch.bmm(negative_samples_embeddings, target_embedding.unsqueeze(2)).squeeze(2)\n",
    "        neg_loss = -torch.sigmoid(-neg_score).log()\n",
    "        neg_loss = neg_loss.sum(dim=1)\n",
    "\n",
    "        return (pos_loss + neg_loss).mean()"
   ],
   "id": "5ff9a4f1eac73edc",
   "outputs": [],
   "execution_count": 8
  },
  {
   "metadata": {
    "ExecuteTime": {
     "end_time": "2025-03-04T05:51:35.074321Z",
     "start_time": "2025-03-04T05:51:08.850329Z"
    }
   },
   "cell_type": "code",
   "source": [
    "model = SkipGramWithNegativeSamplingAndSubsamplingOfFrequentWords(len(vocab), 1000)\n",
    "\n",
    "num_negative_samples = 5\n",
    "optimizer = optim.SGD(model.parameters(), lr=0.01)\n",
    "epochs = 500\n",
    "\n",
    "start_time = time.time()\n",
    "\n",
    "for epoch in range(epochs):\n",
    "    total_loss = 0\n",
    "    for target, context in training_pairs:\n",
    "        target_tensor = torch.tensor([word_to_index[target]], dtype=torch.long)\n",
    "        context_index = word_to_index[context]\n",
    "        context_tensor = torch.tensor([context_index], dtype=torch.long)\n",
    "        negative_samples_tensor = torch.tensor(\n",
    "            [get_negative_samples(num_negative_samples, context_index)], dtype=torch.long\n",
    "        )\n",
    "        loss = model(target_tensor, context_tensor, negative_samples_tensor)\n",
    "        optimizer.zero_grad()\n",
    "        loss.backward()\n",
    "        optimizer.step()\n",
    "        total_loss += loss.item()\n",
    "\n",
    "    if epoch == 0 or (epoch + 1) % 100 == 0:\n",
    "        print(f\"Epoch: {epoch}, Loss: {total_loss}\")\n",
    "\n",
    "end_time = time.time()\n",
    "print(f\"Training time: {end_time - start_time} seconds\")"
   ],
   "id": "db907af3d2db691b",
   "outputs": [
    {
     "name": "stdout",
     "output_type": "stream",
     "text": [
      "Epoch: 0, Loss: 789.0757669210434\n",
      "Epoch: 99, Loss: 40.28482700511813\n",
      "Epoch: 199, Loss: 25.123359594494104\n",
      "Epoch: 299, Loss: 22.401581972837448\n",
      "Epoch: 399, Loss: 23.950490407645702\n",
      "Epoch: 499, Loss: 20.346398916095495\n",
      "Training time: 25.867375135421753 seconds\n"
     ]
    }
   ],
   "execution_count": 9
  },
  {
   "metadata": {
    "ExecuteTime": {
     "end_time": "2025-03-04T05:51:35.086634Z",
     "start_time": "2025-03-04T05:51:35.081955Z"
    }
   },
   "cell_type": "code",
   "source": [
    "word = \"oolong\"\n",
    "word_index_tensor = torch.tensor(word_to_index[word], dtype=torch.long)\n",
    "embedding_vector = model.input_embedding(word_index_tensor).detach().numpy()\n",
    "print(f\"Embedding {embedding_vector.shape} for '{word}': {embedding_vector}\")"
   ],
   "id": "ebe2cbdd7901acb2",
   "outputs": [
    {
     "name": "stdout",
     "output_type": "stream",
     "text": [
      "Embedding (1000,) for 'oolong': [ 4.05621350e-01  1.81483209e-01 -4.06809628e-01  2.30939686e-01\n",
      "  1.08531117e-01  1.63119197e-01 -3.92784238e-01  9.52102542e-02\n",
      " -3.31382155e-02  3.34345341e-01 -1.09118462e-01 -8.48415494e-02\n",
      "  1.05704308e-01  1.45459592e-01  4.04628932e-01 -1.15397632e-01\n",
      "  6.96330070e-02  1.51185393e-01 -1.90357327e-01  4.93192613e-01\n",
      " -4.98066545e-02 -5.10013103e-02 -3.02993715e-01 -1.42267108e-01\n",
      "  5.00079393e-02 -3.12797666e-01 -4.34235871e-01 -2.57645845e-01\n",
      " -4.43014443e-01 -2.90615797e-01  2.27307320e-01 -3.02868962e-01\n",
      " -4.25365150e-01 -1.94954991e-01 -1.22969687e-01 -1.59589827e-01\n",
      "  4.91231680e-01 -2.49674320e-02 -3.09211373e-01  4.68738854e-01\n",
      " -9.56750512e-02  3.92711163e-02  9.92140770e-02  7.46877193e-02\n",
      "  2.15017200e-02 -4.84076321e-01  3.46996665e-01  3.02290201e-01\n",
      "  1.87458634e-01  9.74823236e-02 -5.81416488e-02  3.10133755e-01\n",
      "  3.28133762e-01 -4.81484711e-01  3.47948670e-01  4.03430223e-01\n",
      " -4.41761017e-02  4.98676598e-01 -4.26282763e-01  2.08825469e-01\n",
      " -3.94347250e-01 -3.12793612e-01  2.14740038e-01  3.04469466e-02\n",
      "  1.11817718e-02  3.19098771e-01  7.58453012e-02  3.04845572e-02\n",
      "  3.97253752e-01 -1.96010470e-02 -2.65309334e-01 -4.89809036e-01\n",
      "  2.68121243e-01 -3.34457457e-01 -5.32351732e-02 -3.53896618e-01\n",
      "  2.83013463e-01 -1.35797024e-01  2.10755587e-01 -3.51296484e-01\n",
      "  5.23498058e-02  2.76287615e-01  3.58925104e-01 -4.58825767e-01\n",
      "  3.84824455e-01  4.53724980e-01  4.68061209e-01 -2.40464091e-01\n",
      " -2.26446390e-01  8.97712708e-02 -4.08858061e-03  7.45981932e-02\n",
      " -3.28764081e-01  3.89671504e-01 -4.33092535e-01  2.04106927e-01\n",
      " -7.28964806e-05 -3.90299559e-01  2.07376719e-01  6.60718083e-02\n",
      "  3.73000801e-01 -2.11905360e-01  3.22818756e-01 -2.61711121e-01\n",
      " -3.82901430e-02 -2.97702551e-01 -4.15459633e-01  4.78527963e-01\n",
      "  4.06588018e-01  1.28595293e-01 -2.71180212e-01  2.44877100e-01\n",
      "  3.30356538e-01 -6.52592182e-02 -1.44997776e-01 -1.36202157e-01\n",
      " -4.50900674e-01 -4.66162980e-01  2.03291297e-01 -8.57112408e-02\n",
      " -4.47683334e-02  3.20746660e-01  4.08736408e-01  6.12033606e-02\n",
      "  4.86032367e-02  8.58008862e-03  2.04949737e-01  4.54169095e-01\n",
      " -4.92781043e-01  6.94007277e-02 -4.34631467e-01 -3.29887986e-01\n",
      "  3.24497819e-02 -8.31875205e-02 -1.36494398e-01 -9.82481241e-02\n",
      "  3.01553428e-01 -3.57963204e-01 -1.52978003e-01  9.14652348e-02\n",
      "  2.77828097e-01  3.41595232e-01 -2.06173062e-02 -1.71267331e-01\n",
      " -2.15522647e-02 -3.76631498e-01 -1.19481504e-01 -4.34421718e-01\n",
      " -2.22608447e-01  3.61677408e-01  4.78049397e-01 -3.44185472e-01\n",
      " -3.11912537e-01  8.43709707e-02 -4.61972356e-02  4.26741242e-01\n",
      " -3.37130308e-01 -3.14210713e-01  2.70246267e-01  4.66909409e-01\n",
      " -6.53276443e-02  7.64676332e-02 -1.45210445e-01  4.85969305e-01\n",
      "  1.09126270e-01 -2.55598247e-01  3.68369877e-01  2.52801597e-01\n",
      " -1.60453677e-01  2.14520097e-02 -1.21880174e-01 -4.21741545e-01\n",
      "  4.49218750e-01 -6.14900589e-02  1.24212205e-01  2.65743017e-01\n",
      "  4.31381702e-01 -4.33397412e-01 -4.31562066e-02 -2.73901701e-01\n",
      " -4.74353909e-01 -5.81424236e-02 -2.11798310e-01 -4.44602072e-01\n",
      " -3.73491466e-01  2.92751014e-01 -1.92191064e-01 -4.87822294e-01\n",
      " -4.89605129e-01  4.75426614e-01 -3.04875374e-02  2.84461498e-01\n",
      "  2.74915636e-01  1.42774582e-02 -3.67892385e-02 -3.30000460e-01\n",
      " -1.80764198e-01  4.19205189e-01  1.82745636e-01  1.41552508e-01\n",
      " -1.68396115e-01  8.30339789e-02 -4.84258890e-01 -1.44573927e-01\n",
      "  2.30391204e-01  1.84075952e-01 -2.00892925e-01  4.72078323e-02\n",
      "  9.79830027e-02 -7.70749450e-02  4.53628421e-01  2.40692317e-01\n",
      " -3.05180669e-01  1.59944534e-01 -1.47428095e-01 -4.03178334e-01\n",
      " -1.38256907e-01 -4.68313277e-01 -9.73644257e-02  4.27206039e-01\n",
      "  2.93117762e-03 -1.04766428e-01 -9.72965956e-02  4.13177729e-01\n",
      " -2.62334347e-02 -2.71645427e-01 -2.77600348e-01  1.36142015e-01\n",
      "  2.14863002e-01 -2.56196856e-02  2.03412771e-01  2.51336277e-01\n",
      " -3.10980022e-01 -4.54786420e-02 -5.45772910e-02  1.40435338e-01\n",
      "  9.80327129e-02  4.17771161e-01  7.99379349e-02  4.97644007e-01\n",
      "  3.17560792e-01 -3.82068455e-01 -6.05249405e-03 -1.38810575e-01\n",
      "  3.29485595e-01  4.17243004e-01 -1.16631269e-01 -3.01532745e-01\n",
      " -4.31796491e-01  4.16771710e-01 -2.08331168e-01 -1.69501603e-01\n",
      " -4.99498188e-01 -7.30345249e-02  3.25035453e-01  1.93252385e-01\n",
      "  7.38159418e-02  2.64447033e-01  2.16349542e-01  2.89273262e-02\n",
      " -7.48369098e-02  1.33457780e-01 -5.99657893e-02  4.13629770e-01\n",
      "  2.64749885e-01 -1.19419336e-01 -2.55722880e-01  2.08972037e-01\n",
      " -4.05906498e-01  1.44735634e-01  1.50401235e-01 -6.21815324e-02\n",
      "  1.15340173e-01 -2.33889163e-01  2.43186116e-01  6.85501695e-02\n",
      "  3.77360642e-01  8.02960992e-02 -1.03408933e-01 -7.55155087e-02\n",
      " -4.86379921e-01  3.83472383e-01  3.20710301e-01 -3.27833652e-01\n",
      " -1.90267861e-01 -4.92328525e-01  4.01116014e-01 -6.87146187e-03\n",
      " -1.57408476e-01  9.01095867e-02 -3.61746550e-01 -6.00960851e-02\n",
      "  2.96157002e-01  3.15110087e-01 -1.16054177e-01  4.52509522e-01\n",
      "  1.34710371e-01  2.30702460e-01  1.41657352e-01  3.53519082e-01\n",
      " -2.95606613e-01 -3.87319505e-01 -4.59059834e-01 -1.64895296e-01\n",
      "  3.67516577e-01  3.83291304e-01  4.86623764e-01 -1.23259366e-01\n",
      " -1.36839151e-02  2.10735857e-01  4.11269903e-01 -4.68912959e-01\n",
      " -3.83836627e-01 -2.21903265e-01  3.84525657e-01 -2.24167883e-01\n",
      " -1.12017214e-01  2.05593526e-01  1.74436212e-01  3.20204616e-01\n",
      "  3.50451767e-01 -4.45073247e-02  1.18941307e-01  4.35763597e-02\n",
      " -1.21817172e-01  4.16436195e-02 -2.99209237e-01 -4.90580261e-01\n",
      " -2.78032780e-01  1.58036292e-01 -1.04480386e-02 -5.11695743e-02\n",
      " -1.77403390e-01  9.20125246e-02  1.73817456e-01  1.53719723e-01\n",
      "  1.61273897e-01  3.85280967e-01  1.01906061e-01  4.11344469e-01\n",
      " -2.69572854e-01  1.16308749e-01  2.11106777e-01  2.93762565e-01\n",
      "  4.88427579e-01  1.86210871e-03 -3.27391207e-01  1.01931870e-01\n",
      " -4.93819714e-02 -4.74565029e-01  1.83698475e-01  4.43695545e-01\n",
      "  2.68014908e-01  3.18853021e-01 -1.54589117e-01 -3.82162154e-01\n",
      " -3.80946338e-01 -4.67816770e-01 -1.17235839e-01  4.72749591e-01\n",
      "  3.29458117e-02  2.49846399e-01 -1.27327681e-01  2.59254515e-01\n",
      "  2.11318910e-01 -1.63347721e-02 -4.31773067e-02 -9.91189480e-03\n",
      " -3.20991576e-01  3.56144309e-01  4.81068850e-01  2.09120870e-01\n",
      "  3.06284249e-01  3.92878294e-01 -3.72832477e-01 -3.85111570e-02\n",
      " -4.19272423e-01  1.42205834e-01 -4.88163710e-01  1.65418863e-01\n",
      "  2.47807443e-01  1.13153279e-01 -1.60544097e-01 -9.81718898e-02\n",
      "  2.04418957e-01  4.21080947e-01  1.72786295e-01  1.45658731e-01\n",
      "  1.40569985e-01  4.33359563e-01  1.48390591e-01 -1.25143707e-01\n",
      " -4.68068123e-01  8.13808441e-02 -2.61256397e-01  3.68930697e-02\n",
      " -1.92276359e-01 -1.84959948e-01 -3.22216988e-01 -4.82805848e-01\n",
      " -2.66569912e-01  4.74804282e-01  4.63000536e-02  4.89576459e-01\n",
      " -3.56582999e-02 -3.32071185e-02  3.03611219e-01 -4.68953550e-01\n",
      " -4.58374023e-01  4.40218329e-01  2.95276105e-01 -4.98766422e-01\n",
      "  3.36652040e-01 -1.62463903e-01  4.02088165e-01 -3.79050672e-01\n",
      "  1.40682757e-01 -3.35205019e-01 -1.56807125e-01 -1.21368170e-02\n",
      " -4.36758161e-01 -2.11429954e-01 -4.55829918e-01  4.22206163e-01\n",
      " -1.06661260e-01 -4.58000243e-01  2.11191535e-01  3.69228721e-02\n",
      " -2.65983343e-01  2.18307972e-02 -4.19986069e-01  4.55455542e-01\n",
      "  1.78032756e-01 -1.70308650e-01 -3.03104758e-01 -1.05473042e-01\n",
      " -2.60742545e-01  1.32102847e-01  2.74697721e-01 -4.40536201e-01\n",
      "  4.67828512e-02  3.36693168e-01 -2.92018771e-01 -2.57466733e-01\n",
      "  1.82869911e-01  3.77827108e-01  5.12993336e-03 -4.77996349e-01\n",
      " -2.98893869e-01 -3.54479313e-01 -5.60438633e-02  3.15748274e-01\n",
      " -2.88600922e-02  4.02956963e-01  3.02261293e-01 -3.46790075e-01\n",
      " -4.38600183e-01  1.86327755e-01  4.80762005e-01 -3.72786224e-01\n",
      " -1.64773107e-01  4.09154058e-01 -6.25504255e-02  4.30771232e-01\n",
      " -1.61162257e-01 -3.30333114e-02 -3.58853698e-01 -4.20932770e-01\n",
      " -2.75071681e-01  2.83753216e-01 -3.86583567e-01  4.33016956e-01\n",
      " -4.85079467e-01 -1.83137536e-01  4.33061123e-02 -2.93994427e-01\n",
      " -4.21378911e-01 -1.73076093e-01  8.57716799e-03  1.22736275e-01\n",
      " -1.99725389e-01 -4.01711047e-01  4.90729392e-01  7.58992434e-02\n",
      " -7.33749270e-02  1.76886916e-01 -1.26487017e-02  4.51176584e-01\n",
      "  4.37735677e-01  2.30920017e-01 -2.76721656e-01 -3.87049556e-01\n",
      "  2.79754043e-01  2.64737606e-01  1.94498539e-01  1.50015414e-01\n",
      "  7.20037222e-02 -4.17147994e-01 -3.99433911e-01 -1.70238912e-01\n",
      "  1.08434439e-01 -4.22293723e-01  1.34347558e-01 -9.37479734e-03\n",
      "  3.03377509e-02 -4.25364375e-02 -1.12182319e-01 -1.45077527e-01\n",
      "  2.88511038e-01 -4.05056596e-01  2.05532312e-01 -1.43768370e-01\n",
      "  2.42390275e-01 -1.86981559e-02  3.62208307e-01  4.35718179e-01\n",
      "  2.94071734e-01  2.24599540e-01 -2.34196782e-01 -2.88975239e-02\n",
      " -4.34345245e-01  4.74675000e-01  4.72055256e-01  3.49308014e-01\n",
      "  4.84101236e-01  3.59368324e-03  2.74791896e-01 -3.81463766e-02\n",
      " -3.24040473e-01  7.58171082e-02 -8.44162703e-02  3.74311805e-01\n",
      " -4.79491591e-01 -2.07732201e-01  2.20292866e-01 -3.62348557e-01\n",
      "  1.31209910e-01  3.71544838e-01 -2.20486820e-01  4.39554632e-01\n",
      "  4.89610136e-01 -3.93677115e-01  1.91020966e-01 -3.23859453e-01\n",
      " -2.11936414e-01 -1.07988477e-01 -4.15726840e-01  1.78217769e-01\n",
      " -4.89867628e-01 -2.75249660e-01 -3.60753298e-01  1.55036211e-01\n",
      "  4.42345321e-01 -4.11800802e-01 -1.50810421e-01 -1.02967024e-01\n",
      " -3.52612078e-01  6.79388046e-02  2.34970808e-01 -2.87149370e-01\n",
      " -3.05630863e-01  3.76060426e-01  3.04026604e-02  4.15356874e-01\n",
      " -4.52888548e-01 -2.89434791e-02  2.35250354e-01  1.26031160e-01\n",
      "  1.04336321e-01  1.53879344e-01 -2.68181264e-01 -6.32298589e-02\n",
      " -2.73739696e-01 -4.62367296e-01 -3.21560562e-01 -2.27818489e-01\n",
      " -1.33130133e-01 -2.23741591e-01 -2.54960418e-01 -2.03392982e-01\n",
      " -3.96582425e-01 -4.37500656e-01  3.37228537e-01  4.40714955e-02\n",
      " -6.86735511e-02 -2.15046942e-01  2.27285862e-01  2.08646297e-01\n",
      " -4.53717113e-02 -4.33343887e-01 -1.15748405e-01  3.56327236e-01\n",
      " -4.75500107e-01 -3.82591665e-01 -2.71053731e-01 -2.11077034e-01\n",
      "  1.25067830e-02  1.48297668e-01 -4.60784197e-01  2.17853129e-01\n",
      " -3.78499866e-01  8.09838176e-02  4.14252281e-04 -4.38507438e-01\n",
      " -1.99290872e-01 -1.86929584e-01 -8.28077793e-02 -3.32435191e-01\n",
      "  3.04354072e-01  2.60396242e-01 -4.40924883e-01 -1.04829907e-01\n",
      "  4.45778787e-01 -3.46423924e-01  2.89341331e-01  2.50941098e-01\n",
      "  4.37508523e-01 -2.02517688e-01 -4.28516269e-01  2.07456648e-01\n",
      "  4.05157030e-01  4.67029452e-01 -4.50472891e-01 -3.76920879e-01\n",
      " -3.07500601e-01 -2.23803997e-01 -2.90614903e-01  2.61831701e-01\n",
      " -3.50722134e-01  2.10661411e-01 -3.98462772e-01 -8.54978561e-02\n",
      " -2.91800857e-01 -2.48897970e-01  1.14837766e-01  9.28214192e-02\n",
      " -9.74066257e-02 -1.07652605e-01 -4.22721922e-01 -2.87490189e-01\n",
      " -2.17754602e-01 -9.39617753e-02  4.83837128e-01 -1.86516047e-01\n",
      " -4.73434031e-01 -1.86360180e-01  3.19994092e-01  4.28311348e-01\n",
      "  4.24930573e-01  2.80028701e-01 -3.93463612e-01  4.59746420e-01\n",
      "  1.10781074e-01  3.87095809e-02  4.37294364e-01  1.25190854e-01\n",
      "  2.49746561e-01  2.99739778e-01  3.49797606e-02  1.82168365e-01\n",
      "  1.91084802e-01  3.53060067e-01  1.29622757e-01  4.38618124e-01\n",
      "  1.23696685e-01 -2.97900438e-02 -2.39933372e-01 -3.92700970e-01\n",
      "  2.30208635e-02 -9.62840319e-02 -2.73373961e-01  2.75412738e-01\n",
      " -3.99882853e-01 -3.08124006e-01 -4.26965058e-01 -3.74616265e-01\n",
      "  4.89658058e-01 -4.70250726e-01 -2.50988662e-01 -1.55700743e-01\n",
      "  4.18438375e-01 -3.40660334e-01  2.32583880e-01  9.51008201e-02\n",
      " -4.28422570e-01 -3.91393363e-01  8.71281028e-02  2.71808445e-01\n",
      "  1.23752952e-01 -2.94300854e-01  4.39893365e-01  2.44511306e-01\n",
      " -2.67894626e-01  2.92396963e-01  1.04941964e-01  2.98553884e-01\n",
      "  3.23201239e-01  4.46193576e-01  2.67459452e-01  4.60011959e-01\n",
      "  5.23132682e-02  3.45031559e-01 -9.91354585e-02  1.63550973e-02\n",
      "  1.93163157e-01  1.38716459e-01  3.08506668e-01 -2.27724135e-01\n",
      "  1.87448740e-01  7.83230662e-02 -1.24653876e-01 -2.92277932e-02\n",
      "  3.15446019e-01 -4.28698242e-01  3.19209278e-01 -2.30262995e-01\n",
      "  5.47844172e-03  3.63854170e-02 -4.92909551e-01  1.75250411e-01\n",
      "  1.08187139e-01  4.24466252e-01 -1.33014321e-01  2.54999936e-01\n",
      " -3.05763066e-01 -2.10711241e-01 -4.52617586e-01 -1.03530228e-01\n",
      " -4.98629630e-01 -3.75214636e-01 -3.93212020e-01 -1.69373691e-01\n",
      " -2.09472597e-01 -7.89834261e-02 -3.27426791e-02 -6.95576072e-02\n",
      " -1.13455594e-01  3.12118948e-01  3.17195058e-01  8.89860988e-02\n",
      " -3.44258547e-02  3.61561418e-01  6.85406923e-02  4.36606348e-01\n",
      " -8.50850344e-03  3.29032540e-02 -2.88153827e-01 -1.74651563e-01\n",
      "  2.95430541e-01 -7.45655894e-02 -2.60117471e-01  1.03797138e-01\n",
      " -3.50559235e-01  2.17175186e-01 -1.73989058e-01  6.65989518e-02\n",
      "  4.75513577e-01 -4.94227409e-01 -3.35908592e-01 -8.71884227e-02\n",
      " -4.22672212e-01 -4.91585791e-01  3.16057920e-01  1.29793048e-01\n",
      "  4.84458804e-02 -2.36100554e-01 -2.88723230e-01 -4.30815935e-01\n",
      " -2.78264284e-03 -4.84278381e-01  1.74644053e-01  4.71554399e-02\n",
      " -7.80194998e-03  4.52284932e-01 -8.19034576e-02 -3.36101234e-01\n",
      " -3.65155518e-01  4.73745823e-01  4.96227860e-01 -3.85847688e-01\n",
      " -4.43244815e-01 -3.63573730e-01  1.68093264e-01 -9.25702453e-02\n",
      " -4.13442910e-01  2.63233542e-01  1.15255535e-01  2.75733173e-01\n",
      " -4.42350149e-01 -3.01297188e-01 -5.33290505e-02  2.59262502e-01\n",
      "  6.42215610e-02 -1.52784765e-01  2.88547158e-01  2.64336109e-01\n",
      " -4.31319177e-01  4.78572190e-01  4.84651327e-03  9.02734399e-02\n",
      "  4.65396762e-01 -1.25839472e-01 -3.10431898e-01 -3.68655264e-01\n",
      " -2.25717843e-01 -2.63622224e-01  3.45142066e-01  2.15449452e-01\n",
      "  3.94796491e-01 -4.10739660e-01  2.42014050e-01 -1.16831541e-01\n",
      "  1.63489580e-03  3.85843515e-01 -3.62488270e-01  2.98478842e-01\n",
      " -8.85048509e-02 -3.83797348e-01 -1.62440836e-01  6.33543730e-02\n",
      " -3.97134304e-01  3.35889935e-01  1.09161317e-01  4.82396007e-01\n",
      " -3.18123579e-01  1.46004260e-01 -2.21004665e-01 -1.74229443e-01\n",
      "  4.02576387e-01 -8.22848082e-03  2.20301092e-01 -4.18684065e-01\n",
      " -3.91422510e-01  4.02680814e-01 -1.97842121e-02 -3.22945654e-01\n",
      "  4.49458361e-01 -2.97221065e-01  3.86840522e-01 -1.04055882e-01\n",
      "  2.03152239e-01 -2.40534723e-01  4.48467970e-01  2.25168705e-01\n",
      " -2.73542464e-01  4.22261298e-01  6.72701597e-02  5.22637367e-02\n",
      "  3.84640455e-01 -2.71021724e-01 -1.39525771e-01  1.61642432e-02\n",
      " -2.73080468e-01  3.92200828e-01 -1.83056712e-01 -3.51860881e-01\n",
      " -1.83754086e-01  8.70170593e-02 -8.64934921e-03 -3.82378817e-01\n",
      "  2.71696687e-01  3.45049441e-01  1.81693137e-01 -3.39661837e-02\n",
      " -1.55438662e-01 -2.09846318e-01 -1.90533996e-01 -1.44804120e-01\n",
      " -2.22435296e-01  3.29650164e-01  4.37789083e-01 -2.52808630e-01\n",
      " -8.41480494e-02  4.83415961e-01 -3.41761708e-01 -4.81736481e-01\n",
      "  3.95339727e-02 -4.73388314e-01  1.69251323e-01 -2.89585471e-01\n",
      " -2.47890830e-01  4.23654974e-01  3.05246592e-01  3.64168525e-01\n",
      " -6.44165277e-02 -3.85364115e-01  1.46115959e-01 -3.49986970e-01\n",
      " -5.62860370e-02  3.62339616e-02  2.18822956e-02 -3.47309887e-01\n",
      "  1.69969320e-01  3.65639687e-01  4.49505329e-01  2.68320978e-01\n",
      " -2.64536202e-01 -1.15765452e-01  5.97526431e-02  3.01280797e-01\n",
      "  3.21829259e-01  3.88592005e-01  4.18800056e-01 -3.01192939e-01\n",
      "  1.95531905e-01 -2.71702886e-01  1.33215427e-01  4.41635847e-01\n",
      " -1.16679251e-01  2.69036293e-02 -1.69387579e-01 -4.93656039e-01\n",
      "  4.29242432e-01  2.07035542e-01  1.84421837e-01 -5.29538989e-02\n",
      "  1.84036314e-01 -3.07721376e-01  8.67742300e-03  3.51758838e-01\n",
      "  4.46023345e-01 -2.39083529e-01 -3.11821103e-01 -1.63147986e-01\n",
      " -2.83478022e-01  3.83019805e-01 -1.68338478e-01  2.38055289e-01\n",
      " -4.71013665e-01  4.27976727e-01  2.74811506e-01  1.28175557e-01\n",
      "  4.76959705e-01 -1.19165242e-01 -4.28241551e-01 -4.38786089e-01\n",
      "  1.56533778e-01  2.73448527e-01 -3.93830717e-01 -4.69899595e-01\n",
      "  2.10502625e-01  8.62953067e-02 -1.93783164e-01 -3.83502066e-01\n",
      "  4.53024030e-01  2.34358490e-01  3.96285772e-01  3.41703057e-01\n",
      "  2.57785559e-01  1.80351198e-01  3.09213877e-01 -3.49340439e-02\n",
      " -1.15711033e-01 -4.56004798e-01 -6.07811213e-02  2.48422325e-01\n",
      "  1.98672175e-01 -4.21172798e-01 -2.73567379e-01  1.00084245e-01\n",
      " -1.47208929e-01  3.64551485e-01 -3.91260743e-01  4.60473180e-01\n",
      "  3.43693674e-01 -2.70405114e-01 -1.42443955e-01  8.65094066e-02\n",
      " -4.87798691e-01  1.14502907e-02  4.12070155e-01  3.92354071e-01\n",
      "  1.74677670e-01  1.20252371e-01  5.05411625e-02 -3.12839091e-01\n",
      " -2.46695518e-01  4.14325893e-01 -2.56988585e-01 -7.54319429e-02\n",
      "  3.82675827e-01 -2.88414955e-02 -6.26078844e-02 -3.35052550e-01\n",
      "  2.53962100e-01  3.04449856e-01 -2.86683440e-01 -3.61493289e-01\n",
      " -1.96324527e-01 -1.85267925e-01 -2.92796612e-01 -3.45359623e-01\n",
      " -4.37533855e-01  6.88385963e-03  1.08032703e-01  3.22554231e-01\n",
      " -2.65541077e-02  7.20422864e-02 -2.27838218e-01 -5.75413704e-02]\n"
     ]
    }
   ],
   "execution_count": 10
  },
  {
   "metadata": {
    "ExecuteTime": {
     "end_time": "2025-03-04T05:51:35.096891Z",
     "start_time": "2025-03-04T05:51:35.093788Z"
    }
   },
   "cell_type": "code",
   "source": [
    "sentence1 = \"tea is popular in taiwan\".split()\n",
    "sentence2 = \"oolong is famous in taiwan\".split()\n",
    "sentence1_embeddings = [model.input_embedding(torch.tensor(word_to_index[word], dtype=torch.long)).detach() for word in sentence1]\n",
    "sentence2_embeddings = [model.input_embedding(torch.tensor(word_to_index[word], dtype=torch.long)).detach() for word in sentence2]\n",
    "vector1 = torch.stack(sentence1_embeddings).mean(dim=0)\n",
    "vector2 = torch.stack(sentence2_embeddings).mean(dim=0)\n",
    "cosine_sim = nn.CosineSimilarity(dim=0)\n",
    "similarity = cosine_sim(vector1, vector2).item()\n",
    "print(f\"Sentence 1: {sentence1}\")\n",
    "print(f\"Sentence 2: {sentence2}\")\n",
    "print(f\"Similarity between sentences: {similarity}\")"
   ],
   "id": "6b5cf7d4f80e7c94",
   "outputs": [
    {
     "name": "stdout",
     "output_type": "stream",
     "text": [
      "Sentence 1: ['tea', 'is', 'popular', 'in', 'taiwan']\n",
      "Sentence 2: ['oolong', 'is', 'famous', 'in', 'taiwan']\n",
      "Similarity between sentences: 0.6427488327026367\n"
     ]
    }
   ],
   "execution_count": 11
  },
  {
   "metadata": {
    "ExecuteTime": {
     "end_time": "2025-03-04T05:51:36.225979Z",
     "start_time": "2025-03-04T05:51:35.122807Z"
    }
   },
   "cell_type": "code",
   "source": [
    "word_embeddings_tensor = model.input_embedding.weight.detach()\n",
    "U, S, V = torch.pca_lowrank(word_embeddings_tensor, q=2)\n",
    "reduced_embeddings = U.numpy()\n",
    "\n",
    "plt.figure(figsize=(8, 6))\n",
    "\n",
    "for word, index in word_to_index.items():\n",
    "    x, y = reduced_embeddings[index]\n",
    "    plt.scatter(x, y, marker='o', color='blue')\n",
    "\n",
    "tea_index = word_to_index['tea']\n",
    "x, y = reduced_embeddings[tea_index]\n",
    "plt.scatter(x, y, marker='o', color='red')\n",
    "plt.text(x, y, 'tea', fontsize=8)\n",
    "\n",
    "oolong_index = word_to_index['oolong']\n",
    "x, y = reduced_embeddings[oolong_index]\n",
    "plt.scatter(x, y, marker='o', color='red')\n",
    "plt.text(x, y, 'oolong', fontsize=8)\n",
    "\n",
    "plt.xlabel(\"PCA Component 1\")\n",
    "plt.ylabel(\"PCA Component 2\")\n",
    "plt.title(\"Skip-Gram with Negative Sampling And Subsampling of Frequent Words Word Embeddings Visualization of Corpus 'Oolong`\")\n",
    "plt.grid(True)\n",
    "plt.show()"
   ],
   "id": "19c51d9d189b2300",
   "outputs": [
    {
     "data": {
      "text/plain": [
       "<Figure size 800x600 with 1 Axes>"
      ],
      "image/png": "[encoded data removed]"
     },
     "metadata": {},
     "output_type": "display_data"
    }
   ],
   "execution_count": 12
  }
 ],
 "metadata": {
  "kernelspec": {
   "display_name": "Python 3",
   "language": "python",
   "name": "python3"
  },
  "language_info": {
   "codemirror_mode": {
    "name": "ipython",
    "version": 2
   },
   "file_extension": ".py",
   "mimetype": "text/x-python",
   "name": "python",
   "nbconvert_exporter": "python",
   "pygments_lexer": "ipython2",
   "version": "2.7.6"
  }
 },
 "nbformat": 4,
 "nbformat_minor": 5
}
