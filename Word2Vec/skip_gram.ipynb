{
 "cells": [
  {
   "cell_type": "code",
   "id": "initial_id",
   "metadata": {
    "collapsed": true,
    "ExecuteTime": {
     "end_time": "2025-03-04T04:43:14.625414Z",
     "start_time": "2025-03-04T04:43:13.524107Z"
    }
   },
   "source": [
    "import time\n",
    "\n",
    "import matplotlib.pyplot as plt\n",
    "import nltk\n",
    "import torch\n",
    "import torch.nn as nn\n",
    "import torch.optim as optim\n",
    "import wikipediaapi"
   ],
   "outputs": [],
   "execution_count": 1
  },
  {
   "metadata": {
    "ExecuteTime": {
     "end_time": "2025-03-04T04:43:15.907268Z",
     "start_time": "2025-03-04T04:43:14.629786Z"
    }
   },
   "cell_type": "code",
   "source": [
    "wiki = wikipediaapi.Wikipedia(user_agent=\"waynestalk/1.0\", language=\"en\")\n",
    "page = wiki.page(\"Oolong\")\n",
    "corpus = page.text\n",
    "\n",
    "nltk.download(\"punkt\")\n",
    "sentences = nltk.sent_tokenize(corpus)\n",
    "tokenized_corpus = [[word.lower() for word in nltk.word_tokenize(sentence) if word.isalpha()] for sentence in sentences]\n",
    "tokenized_corpus[:5]"
   ],
   "id": "33e399e05f93750",
   "outputs": [
    {
     "name": "stderr",
     "output_type": "stream",
     "text": [
      "[nltk_data] Downloading package punkt to /Users/wayne/nltk_data...\n",
      "[nltk_data]   Package punkt is already up-to-date!\n"
     ]
    },
    {
     "data": {
      "text/plain": [
       "[['oolong',\n",
       "  'uk',\n",
       "  'us',\n",
       "  'simplified',\n",
       "  'chinese',\n",
       "  '乌龙茶',\n",
       "  'traditional',\n",
       "  'chinese',\n",
       "  '烏龍茶',\n",
       "  'pinyin',\n",
       "  'wūlóngchá',\n",
       "  'tê',\n",
       "  'black',\n",
       "  'dragon',\n",
       "  'tea',\n",
       "  'is',\n",
       "  'a',\n",
       "  'traditional',\n",
       "  'chinese',\n",
       "  'tea',\n",
       "  'camellia',\n",
       "  'sinensis',\n",
       "  'produced',\n",
       "  'through',\n",
       "  'a',\n",
       "  'process',\n",
       "  'that',\n",
       "  'includes',\n",
       "  'withering',\n",
       "  'the',\n",
       "  'leaves',\n",
       "  'under',\n",
       "  'strong',\n",
       "  'sun',\n",
       "  'and',\n",
       "  'allowing',\n",
       "  'some',\n",
       "  'oxidation',\n",
       "  'to',\n",
       "  'occur',\n",
       "  'before',\n",
       "  'curling',\n",
       "  'and',\n",
       "  'twisting'],\n",
       " ['most',\n",
       "  'oolong',\n",
       "  'teas',\n",
       "  'especially',\n",
       "  'those',\n",
       "  'of',\n",
       "  'fine',\n",
       "  'quality',\n",
       "  'involve',\n",
       "  'unique',\n",
       "  'tea',\n",
       "  'plant',\n",
       "  'cultivars',\n",
       "  'that',\n",
       "  'are',\n",
       "  'exclusively',\n",
       "  'used',\n",
       "  'for',\n",
       "  'particular',\n",
       "  'varieties'],\n",
       " ['the',\n",
       "  'degree',\n",
       "  'of',\n",
       "  'oxidation',\n",
       "  'which',\n",
       "  'is',\n",
       "  'controlled',\n",
       "  'by',\n",
       "  'the',\n",
       "  'length',\n",
       "  'of',\n",
       "  'time',\n",
       "  'between',\n",
       "  'picking',\n",
       "  'and',\n",
       "  'final',\n",
       "  'drying',\n",
       "  'can',\n",
       "  'range',\n",
       "  'from',\n",
       "  'to',\n",
       "  'depending',\n",
       "  'on',\n",
       "  'the',\n",
       "  'variety',\n",
       "  'and',\n",
       "  'production',\n",
       "  'style'],\n",
       " ['oolong',\n",
       "  'is',\n",
       "  'especially',\n",
       "  'popular',\n",
       "  'in',\n",
       "  'southeastern',\n",
       "  'china',\n",
       "  'and',\n",
       "  'among',\n",
       "  'ethnic',\n",
       "  'chinese',\n",
       "  'in',\n",
       "  'southeast',\n",
       "  'asia',\n",
       "  'as',\n",
       "  'is',\n",
       "  'the',\n",
       "  'fujian',\n",
       "  'preparation',\n",
       "  'process',\n",
       "  'known',\n",
       "  'as',\n",
       "  'the',\n",
       "  'gongfu',\n",
       "  'tea',\n",
       "  'ceremony'],\n",
       " ['different',\n",
       "  'styles',\n",
       "  'of',\n",
       "  'oolong',\n",
       "  'tea',\n",
       "  'can',\n",
       "  'vary',\n",
       "  'widely',\n",
       "  'in',\n",
       "  'flavor']]"
      ]
     },
     "execution_count": 2,
     "metadata": {},
     "output_type": "execute_result"
    }
   ],
   "execution_count": 2
  },
  {
   "metadata": {
    "ExecuteTime": {
     "end_time": "2025-03-04T04:43:15.947048Z",
     "start_time": "2025-03-04T04:43:15.944627Z"
    }
   },
   "cell_type": "code",
   "source": [
    "vocab = set([word for sentence in tokenized_corpus for word in sentence])\n",
    "word_to_index = {word: i for i, word in enumerate(vocab)}\n",
    "index_to_word = {i: word for i, word in enumerate(vocab)}\n",
    "len(vocab)\n"
   ],
   "id": "3023827a1dfd6da5",
   "outputs": [
    {
     "data": {
      "text/plain": [
       "580"
      ]
     },
     "execution_count": 3,
     "metadata": {},
     "output_type": "execute_result"
    }
   ],
   "execution_count": 3
  },
  {
   "metadata": {
    "ExecuteTime": {
     "end_time": "2025-03-04T04:43:16.015164Z",
     "start_time": "2025-03-04T04:43:16.010602Z"
    }
   },
   "cell_type": "code",
   "source": [
    "window_size = 2\n",
    "training_pairs = []\n",
    "\n",
    "for sentence in tokenized_corpus:\n",
    "    for i, target_word in enumerate(sentence):\n",
    "        context_indices = (list(range(max(i - window_size, 0), i)) +\n",
    "                           list(range(i + 1, min(i + window_size + 1, len(sentence)))))\n",
    "        for context_index in context_indices:\n",
    "            training_pairs.append((target_word, sentence[context_index]))\n",
    "training_pairs[:5]"
   ],
   "id": "949a70140647319f",
   "outputs": [
    {
     "data": {
      "text/plain": [
       "[('oolong', 'uk'),\n",
       " ('oolong', 'us'),\n",
       " ('uk', 'oolong'),\n",
       " ('uk', 'us'),\n",
       " ('uk', 'simplified')]"
      ]
     },
     "execution_count": 4,
     "metadata": {},
     "output_type": "execute_result"
    }
   ],
   "execution_count": 4
  },
  {
   "metadata": {
    "ExecuteTime": {
     "end_time": "2025-03-04T04:43:16.023412Z",
     "start_time": "2025-03-04T04:43:16.021660Z"
    }
   },
   "cell_type": "code",
   "source": [
    "class SkipGram(nn.Module):\n",
    "    def __init__(self, vocab_size, embedding_dim):\n",
    "        super(SkipGram, self).__init__()\n",
    "        self.embedding = nn.Embedding(vocab_size, embedding_dim)\n",
    "        self.linear = nn.Linear(embedding_dim, vocab_size)\n",
    "\n",
    "    def forward(self, word):\n",
    "        vector = self.embedding(word)\n",
    "        return self.linear(vector)"
   ],
   "id": "f0b4a0ddd2e03c83",
   "outputs": [],
   "execution_count": 5
  },
  {
   "metadata": {
    "ExecuteTime": {
     "end_time": "2025-03-04T05:06:31.926850Z",
     "start_time": "2025-03-04T04:43:16.033406Z"
    }
   },
   "cell_type": "code",
   "source": [
    "model = SkipGram(len(vocab), 1000)\n",
    "\n",
    "loss_function = nn.CrossEntropyLoss()\n",
    "optimizer = optim.SGD(model.parameters(), lr=0.01)\n",
    "epochs = 500\n",
    "\n",
    "start_time = time.time()\n",
    "\n",
    "for epoch in range(epochs):\n",
    "    total_loss = 0\n",
    "    for target, context in training_pairs:\n",
    "        target_tensor = torch.tensor([word_to_index[target]], dtype=torch.long)\n",
    "        context_tensor = torch.tensor([word_to_index[context]], dtype=torch.long)\n",
    "        output = model(target_tensor)\n",
    "        loss = loss_function(output, context_tensor)\n",
    "        optimizer.zero_grad()\n",
    "        loss.backward()\n",
    "        optimizer.step()\n",
    "        total_loss += loss.item()\n",
    "\n",
    "    if epoch == 0 or (epoch + 1) % 100 == 0:\n",
    "        print(f\"Epoch: {epoch}, Loss: {total_loss}\")\n",
    "\n",
    "end_time = time.time()\n",
    "print(f\"Training time: {end_time - start_time} seconds\")"
   ],
   "id": "831e12f208be99a1",
   "outputs": [
    {
     "name": "stdout",
     "output_type": "stream",
     "text": [
      "Epoch: 0, Loss: 53005.44864411908\n",
      "Epoch: 99, Loss: 39075.894928383\n",
      "Epoch: 199, Loss: 34225.59938139503\n",
      "Epoch: 299, Loss: 31129.25231407117\n",
      "Epoch: 399, Loss: 28878.19602577458\n",
      "Epoch: 499, Loss: 27134.22448317823\n",
      "Training time: 1395.594395160675 seconds\n"
     ]
    }
   ],
   "execution_count": 6
  },
  {
   "metadata": {
    "ExecuteTime": {
     "end_time": "2025-03-04T05:06:31.945318Z",
     "start_time": "2025-03-04T05:06:31.941238Z"
    }
   },
   "cell_type": "code",
   "source": [
    "word = \"oolong\"\n",
    "word_index_tensor = torch.tensor(word_to_index[word], dtype=torch.long)\n",
    "embedding_vector = model.embedding(word_index_tensor).detach().numpy()\n",
    "print(f\"Embedding {embedding_vector.shape} for '{word}': {embedding_vector}\")"
   ],
   "id": "b297c4a4dcab9429",
   "outputs": [
    {
     "name": "stdout",
     "output_type": "stream",
     "text": [
      "Embedding (1000,) for 'oolong': [ 0.14162989  0.45162517 -0.20924519  0.2400067   0.04014093 -0.0422206\n",
      "  0.1377291  -0.08605171 -0.27772245 -0.36740732  0.217593   -0.11250918\n",
      "  0.03428505  0.10354972 -0.00295025 -0.19782603 -0.14894088  0.13014352\n",
      "  0.04749083  0.19259764 -0.123813   -0.13824084 -0.06794284 -0.3238008\n",
      " -0.00237572  0.07355004  0.10450228 -0.01023001  0.00117357 -0.22091627\n",
      "  0.15411937 -0.13354376  0.25526184 -0.1102496   0.067228   -0.08288954\n",
      " -0.03695459 -0.02026368  0.29726082  0.07766842 -0.29256263 -0.01205344\n",
      "  0.20130825 -0.08113147 -0.12809014 -0.23803234 -0.05932997 -0.06295176\n",
      " -0.1542423   0.20005193 -0.12462249  0.18381152  0.15632595  0.06795065\n",
      " -0.02519018 -0.18918027  0.33341473  0.38222387 -0.31339812  0.14031735\n",
      " -0.137569   -0.08343355 -0.00868636 -0.0187066   0.06114349 -0.10331477\n",
      " -0.23055555  0.06730623  0.07411459  0.04881903 -0.16886245 -0.11102316\n",
      "  0.07930106  0.02793908 -0.06532778  0.10005125 -0.14994922  0.1380028\n",
      " -0.09647068  0.01572152  0.12476536  0.03732809  0.11165052  0.05849774\n",
      " -0.37664843  0.02396213  0.05115122  0.06986505 -0.28368816  0.23155606\n",
      "  0.4149141  -0.16903087 -0.16594604  0.09835581  0.11630373  0.1350212\n",
      "  0.08668271  0.18174052  0.07066618  0.02488131 -0.02155726 -0.22517724\n",
      " -0.03236746 -0.2549981  -0.13525617  0.04456252 -0.09990498 -0.20505147\n",
      " -0.1926752  -0.08414601 -0.34978473 -0.21716967 -0.039614    0.01995302\n",
      "  0.13736328 -0.03586249  0.13508303  0.02723389  0.08273141  0.32036057\n",
      " -0.08883315 -0.03706907  0.0752225   0.0223967   0.21937819 -0.03813438\n",
      "  0.07833923 -0.05640695  0.04214495  0.21147993  0.05774611  0.04215186\n",
      " -0.08942784 -0.09737665  0.12517941  0.07075089  0.13670278  0.17421079\n",
      " -0.04982055  0.02428216 -0.08027121 -0.00265828  0.18287513  0.05947817\n",
      "  0.02844484 -0.09793423  0.06037539  0.0456087   0.16008508  0.05138678\n",
      " -0.07658603 -0.20340787  0.00895448 -0.102354   -0.26205668  0.10733231\n",
      " -0.04447878 -0.04038516  0.07739308 -0.03299895  0.05885926 -0.05233135\n",
      "  0.11877106 -0.05360852  0.02415277 -0.06809346  0.2108165  -0.22530073\n",
      " -0.08356972  0.10385334 -0.12818971 -0.12264433 -0.10481226 -0.01675927\n",
      "  0.18038297 -0.325084    0.14547731  0.05325659  0.26593587 -0.04264148\n",
      "  0.10238169  0.05510651 -0.09484638  0.09734528 -0.01135943 -0.17573011\n",
      "  0.16851754 -0.10654801 -0.02543038  0.21950585  0.20031933 -0.0089372\n",
      "  0.18080492 -0.27689818 -0.12362715 -0.1985176  -0.2418183   0.06062798\n",
      "  0.17288214 -0.11149176 -0.25095436  0.07238041 -0.21983707  0.3382356\n",
      "  0.04172176 -0.15538846  0.01868736 -0.03992079 -0.32658508  0.13531266\n",
      "  0.11776973  0.06848501 -0.29065424 -0.13097876  0.15362327  0.05561011\n",
      "  0.34749424  0.01057403 -0.00890061 -0.06978415  0.24908221  0.31222543\n",
      " -0.01594316  0.15292896 -0.13358775 -0.01880865 -0.20170473  0.1703615\n",
      " -0.17053327 -0.28200853  0.01212462 -0.11195812  0.04717498  0.2928967\n",
      "  0.01504209 -0.22910333  0.02675398 -0.07651561 -0.08736149  0.06197365\n",
      " -0.25501603  0.07391407  0.01339806 -0.06190784  0.13856298 -0.16355267\n",
      " -0.05754497  0.08096418  0.06501795 -0.09755225 -0.09948032  0.3129062\n",
      "  0.23987193 -0.2387793  -0.13963741  0.3087964   0.02343034  0.05946568\n",
      "  0.2368553  -0.11779491 -0.04426965  0.3774614  -0.12370393  0.2083479\n",
      "  0.205132    0.17174503  0.2702274   0.14127547  0.13785265 -0.12211026\n",
      " -0.25816032 -0.00720102 -0.335599   -0.08937812 -0.1736027   0.18661037\n",
      " -0.19300133  0.01924536 -0.30283383 -0.02284691  0.01512468 -0.12414233\n",
      " -0.07418559  0.14105077 -0.00844047  0.22842428  0.08375576  0.27027392\n",
      " -0.15622574 -0.16990091  0.05644921  0.07768553  0.00295734  0.17356274\n",
      " -0.24016641  0.3899426   0.03586885 -0.16560672 -0.10490667  0.01275844\n",
      " -0.21890342 -0.00621934  0.41418472 -0.22267494 -0.14029926  0.09763354\n",
      " -0.11852187 -0.12398864  0.09673279  0.03289622  0.08317651  0.06746981\n",
      "  0.28334537 -0.04664465 -0.12301209 -0.24162003  0.18181084 -0.12552467\n",
      " -0.01644022 -0.2385849  -0.07462762 -0.04473286 -0.17093928 -0.26962847\n",
      "  0.22846164 -0.09372024  0.04202228  0.20144083 -0.00485802 -0.27449\n",
      "  0.2585073  -0.0811643   0.03726458 -0.1425245  -0.04150729  0.05685144\n",
      "  0.15668465  0.14593416  0.2709126  -0.05486352 -0.3264414  -0.00360128\n",
      " -0.04451483 -0.00894743  0.1479293  -0.00197722  0.25440282  0.05456512\n",
      " -0.14544874  0.07207214  0.06770281  0.29038492  0.00227483 -0.26454535\n",
      " -0.03982566 -0.04542466 -0.05602072  0.15549244  0.01871421  0.19065246\n",
      " -0.0501204   0.095133   -0.11879692  0.16842344 -0.03756656  0.3111235\n",
      "  0.01347526  0.11997669  0.26285282  0.15079464  0.2020015  -0.14254284\n",
      "  0.17068985 -0.05868927 -0.24142435  0.06750303 -0.10549639 -0.05788634\n",
      "  0.11792318 -0.0065859   0.05939988 -0.0560351   0.2634334   0.05958901\n",
      "  0.23911183 -0.22027987 -0.14012942  0.04806619 -0.02626031  0.03629332\n",
      " -0.0125275   0.06449392  0.09166795 -0.01323096  0.31124854 -0.01074159\n",
      "  0.0584988  -0.05352119 -0.02016634 -0.09660374  0.22956367  0.17961316\n",
      " -0.02744948  0.01794299 -0.13569559  0.10803293  0.18159525 -0.08504337\n",
      "  0.0335087  -0.2513849  -0.0112096   0.04091785 -0.04690408  0.08420001\n",
      " -0.1615743   0.12312788  0.13244635 -0.08723876 -0.15365611 -0.03519978\n",
      "  0.05197081  0.24137025  0.0632021   0.10780048  0.17048773 -0.23659128\n",
      "  0.18809815  0.3264886   0.1143548   0.06791121  0.002495    0.0722694\n",
      "  0.18846875  0.15707743 -0.20730454  0.0247534   0.10898095 -0.24337307\n",
      "  0.33499864 -0.38362476  0.1326199   0.0245371   0.08282367  0.07521128\n",
      " -0.2948982   0.2256541   0.10084708 -0.17359579  0.03979623  0.13338517\n",
      "  0.15837732  0.05396463 -0.11131337  0.07271509  0.19923683 -0.03471132\n",
      "  0.05456543  0.05000813  0.01552467 -0.1088436  -0.16815983 -0.15557604\n",
      " -0.08663513  0.22931135  0.2208558   0.21919762 -0.27256206 -0.17007004\n",
      " -0.03695141 -0.16764255  0.01836674 -0.11679657 -0.01870847 -0.1049887\n",
      "  0.05279697 -0.0852918  -0.04878293 -0.07056651 -0.27431798  0.02674153\n",
      "  0.12829074 -0.07287741  0.02063631  0.05207608  0.19194657 -0.34050816\n",
      "  0.22538336 -0.02179979 -0.04376984 -0.05051344 -0.23443314  0.26841196\n",
      "  0.2388943   0.31612828  0.01821079  0.08971459 -0.0164958   0.15780355\n",
      " -0.15362532  0.1095906   0.13110004  0.26731905 -0.07415055 -0.01618968\n",
      "  0.00523503  0.16908303 -0.20220919  0.03390951 -0.07859779  0.04596746\n",
      "  0.0636633  -0.13576886 -0.02828431  0.1817085   0.03373255  0.06253348\n",
      " -0.33235085  0.22119111  0.0753227   0.0699213  -0.03211784  0.03071379\n",
      " -0.17921613  0.05527659 -0.02069329  0.09012859  0.23846775  0.02960462\n",
      "  0.20880531  0.18775953  0.08719958 -0.25376523 -0.09845898  0.19888102\n",
      " -0.03752078  0.18469115  0.2273342  -0.17930706  0.43233794 -0.02486391\n",
      " -0.05912729  0.05159333  0.02785116 -0.04400763  0.04395941  0.08822978\n",
      " -0.30198264  0.00085371  0.08952567  0.09343559  0.2245197  -0.25867093\n",
      "  0.23026147 -0.14719601  0.06739813  0.02172776 -0.20103663  0.22807439\n",
      "  0.10305764  0.04137969 -0.11602431 -0.1197238  -0.06533679 -0.08013546\n",
      "  0.0786494  -0.04329688 -0.01473409 -0.02728305  0.00177696  0.13412333\n",
      "  0.12852652 -0.26896477 -0.03125048 -0.1058843   0.16385515  0.00780543\n",
      "  0.16927569 -0.09431497  0.12319181 -0.03008083  0.00721657  0.24139363\n",
      "  0.03687298  0.04554079  0.19636995 -0.12584645 -0.10240281 -0.12991749\n",
      " -0.09113027  0.03700727 -0.08399082  0.3116275  -0.00945409  0.09838141\n",
      " -0.21295823 -0.01668635  0.13818768 -0.05017861 -0.01460453  0.10690144\n",
      "  0.12798189  0.07486396 -0.01207164 -0.21191433 -0.33000952  0.2584096\n",
      "  0.1852376   0.23034248 -0.0516842   0.09729729  0.37443972 -0.01878215\n",
      " -0.06033014  0.16135037 -0.17045137 -0.08481374  0.12630117  0.15646641\n",
      " -0.26335424 -0.09604234  0.07180912  0.05923647 -0.03329906 -0.12788665\n",
      "  0.1271526  -0.21955712 -0.21989715  0.17948633  0.04872435  0.04091518\n",
      "  0.04108123 -0.07869885 -0.26572725 -0.0115909  -0.04384961 -0.10368188\n",
      "  0.14573707 -0.17418657 -0.06170958  0.04696014 -0.14405933  0.18347687\n",
      "  0.16760938 -0.16958617  0.06784999 -0.14926864  0.19476616 -0.25819886\n",
      "  0.10422695  0.15294468  0.03648344  0.07007941  0.10828114  0.2953653\n",
      " -0.17425086 -0.23393987 -0.1641997   0.10687346  0.20263265 -0.2443447\n",
      " -0.04258058  0.22554147 -0.2650545   0.08995954 -0.13139018 -0.02058823\n",
      " -0.03201175  0.05336189 -0.0819638  -0.00772266 -0.04455495  0.21043618\n",
      "  0.00847137  0.26568303  0.16172963  0.07622357 -0.11896016 -0.00248983\n",
      "  0.04213291  0.0969572  -0.4071934  -0.10097329  0.1209647  -0.46954912\n",
      " -0.27725485 -0.16903456  0.25737903 -0.02783333  0.20945324  0.09020083\n",
      " -0.15333892 -0.14089575  0.06405717 -0.05905103 -0.20620207 -0.249309\n",
      "  0.05674231  0.00085839 -0.33271754  0.03809668  0.22292174 -0.3836689\n",
      "  0.13348812  0.19859472  0.10961212 -0.073499   -0.24414316  0.01223821\n",
      " -0.29282972  0.17831425 -0.03912752 -0.31186002 -0.1286758   0.13840945\n",
      " -0.09471668  0.15238786  0.18924195  0.11744103 -0.08841162 -0.2778062\n",
      "  0.09235321  0.05258749 -0.03877316  0.11349022 -0.02459013  0.01482883\n",
      "  0.3178104  -0.07645561  0.06535988 -0.13001943 -0.03055267 -0.2796267\n",
      "  0.08322731 -0.06237388  0.10964415  0.0483231   0.05500971  0.25693455\n",
      " -0.13202275  0.12092477 -0.15973417  0.00250569 -0.22116634 -0.27929258\n",
      "  0.18986733  0.02632151  0.19237389  0.0594923  -0.04162165 -0.16557345\n",
      "  0.22559704 -0.2981669   0.22436263 -0.16993374 -0.19275494  0.22265871\n",
      " -0.05792719 -0.21297549 -0.06609532  0.16103232 -0.15747938 -0.04225242\n",
      " -0.20481724  0.04519922 -0.06519481  0.166825    0.08183329  0.19904305\n",
      " -0.15448633  0.1044602   0.13902141  0.14186035 -0.06313653  0.16540933\n",
      "  0.05586556 -0.07735179  0.0325097  -0.05448496  0.0027579  -0.29646948\n",
      " -0.03172335 -0.00712633  0.3194994  -0.0547485  -0.17764148  0.26105344\n",
      " -0.12074589 -0.19475922 -0.14654475 -0.01924329 -0.02663546  0.19851808\n",
      " -0.16245927 -0.23202087  0.08896259  0.07620905  0.05525776 -0.0377212\n",
      "  0.10192307 -0.20553593  0.08038247 -0.26203036  0.02778245  0.08452879\n",
      "  0.07461101 -0.17955518  0.01119985 -0.03094631 -0.19860838  0.05939418\n",
      " -0.20435354 -0.00390462 -0.17757909  0.05233802  0.07922875 -0.2543098\n",
      "  0.12197798  0.04358963 -0.01624956  0.03874509  0.06168058  0.24676795\n",
      " -0.34375352  0.05258096  0.00906799  0.07608549 -0.07024568 -0.11983448\n",
      " -0.01690863  0.16469084  0.08266032 -0.16281803 -0.03062688 -0.11453012\n",
      "  0.05935999 -0.02234652  0.11914103 -0.06819664 -0.17903343  0.1901115\n",
      "  0.14838527 -0.0642844  -0.1691569   0.13062333 -0.03858606  0.19500369\n",
      " -0.32963982  0.15309852 -0.34284642  0.02247966 -0.00802173 -0.02024043\n",
      "  0.05283544  0.27006337 -0.17622484 -0.07858905 -0.07509983 -0.08685797\n",
      " -0.0323192   0.13312328  0.09842718  0.04718734 -0.01395559  0.16770369\n",
      "  0.17222092  0.08113827  0.08656719 -0.2421355   0.1272854   0.08299767\n",
      " -0.03781412 -0.11528935 -0.27098796 -0.12795253  0.1373203  -0.10616989\n",
      " -0.27316153  0.07384622  0.2080205  -0.01297305  0.2009301  -0.12013189\n",
      "  0.05337765 -0.2553856  -0.14853777 -0.10282842 -0.12996125 -0.14646278\n",
      " -0.02978031 -0.12668025 -0.03654579  0.3973745   0.01187653  0.08812575\n",
      "  0.02297792  0.13426027 -0.15900096 -0.05163748  0.3383393  -0.01445748\n",
      "  0.19154556 -0.10729839 -0.23584868  0.01676704  0.03149123  0.04548617\n",
      "  0.0364361  -0.36913225  0.08970291 -0.22621107 -0.03785625 -0.18671808\n",
      "  0.17360407  0.07296174 -0.16722605 -0.0522311   0.29055867  0.06206647\n",
      "  0.11099898  0.05349269 -0.09044226 -0.00935933  0.26489046 -0.1004893\n",
      "  0.04087043 -0.03080152  0.01441991 -0.01973339 -0.04886322  0.13190654\n",
      " -0.25145608 -0.03261342 -0.24814305  0.14885068 -0.10920294 -0.06717307\n",
      " -0.03541224 -0.28148934  0.07128996  0.10357405  0.5799161  -0.46843427\n",
      "  0.35267475  0.05942589 -0.01435081 -0.22554201 -0.2938909   0.27729616\n",
      " -0.24016029  0.05881143  0.14926463 -0.31197646  0.08431878 -0.06510524\n",
      " -0.05691956 -0.31065065 -0.12285753  0.12407869  0.1397771   0.25687054\n",
      "  0.08089872 -0.09055559 -0.03667767  0.343845    0.07922673 -0.00869369\n",
      " -0.27283314  0.24553913  0.24244136  0.03790698  0.05075119  0.24679556\n",
      " -0.21071585 -0.05449355  0.13138652 -0.04584066  0.01315644  0.02307881\n",
      "  0.02433554  0.09510036 -0.03606753 -0.3912015  -0.12353164 -0.03146414\n",
      " -0.0605137   0.10956513  0.11164798  0.0007213   0.41969168 -0.08040571\n",
      "  0.05514361  0.1623377   0.30639318  0.15999417  0.2619886  -0.14482512\n",
      "  0.0192214  -0.06675929 -0.50005853 -0.17087366]\n"
     ]
    }
   ],
   "execution_count": 7
  },
  {
   "metadata": {
    "ExecuteTime": {
     "end_time": "2025-03-04T05:06:31.958356Z",
     "start_time": "2025-03-04T05:06:31.955298Z"
    }
   },
   "cell_type": "code",
   "source": [
    "sentence1 = \"tea is popular in taiwan\".split()\n",
    "sentence2 = \"oolong is famous in taiwan\".split()\n",
    "sentence1_embeddings = [model.embedding(torch.tensor(word_to_index[word], dtype=torch.long)).detach() for word in sentence1]\n",
    "sentence2_embeddings = [model.embedding(torch.tensor(word_to_index[word], dtype=torch.long)).detach() for word in sentence2]\n",
    "vector1 = torch.stack(sentence1_embeddings).mean(dim=0)\n",
    "vector2 = torch.stack(sentence2_embeddings).mean(dim=0)\n",
    "cosine_sim = nn.CosineSimilarity(dim=0)\n",
    "similarity = cosine_sim(vector1, vector2).item()\n",
    "print(f\"Sentence 1: {sentence1}\")\n",
    "print(f\"Sentence 2: {sentence2}\")\n",
    "print(f\"Similarity between sentences: {similarity}\")"
   ],
   "id": "26791e2266543c0f",
   "outputs": [
    {
     "name": "stdout",
     "output_type": "stream",
     "text": [
      "Sentence 1: ['tea', 'is', 'popular', 'in', 'taiwan']\n",
      "Sentence 2: ['oolong', 'is', 'famous', 'in', 'taiwan']\n",
      "Similarity between sentences: 0.35018718242645264\n"
     ]
    }
   ],
   "execution_count": 8
  },
  {
   "metadata": {
    "ExecuteTime": {
     "end_time": "2025-03-04T05:06:33.132283Z",
     "start_time": "2025-03-04T05:06:31.986287Z"
    }
   },
   "cell_type": "code",
   "source": [
    "word_embeddings_tensor = model.embedding.weight.detach()\n",
    "U, S, V = torch.pca_lowrank(word_embeddings_tensor, q=2)\n",
    "reduced_embeddings = U.numpy()\n",
    "\n",
    "plt.figure(figsize=(8, 6))\n",
    "\n",
    "for word, index in word_to_index.items():\n",
    "    x, y = reduced_embeddings[index]\n",
    "    plt.scatter(x, y, marker='o', color='blue')\n",
    "\n",
    "tea_index = word_to_index['tea']\n",
    "x, y = reduced_embeddings[tea_index]\n",
    "plt.scatter(x, y, marker='o', color='red')\n",
    "plt.text(x, y, 'tea', fontsize=8)\n",
    "\n",
    "oolong_index = word_to_index['oolong']\n",
    "x, y = reduced_embeddings[oolong_index]\n",
    "plt.scatter(x, y, marker='o', color='red')\n",
    "plt.text(x, y, 'oolong', fontsize=8)\n",
    "\n",
    "plt.xlabel(\"PCA Component 1\")\n",
    "plt.ylabel(\"PCA Component 2\")\n",
    "plt.title(\"Skip-Gram Word Embeddings Visualization of Corpus 'Oolong`\")\n",
    "plt.grid(True)\n",
    "plt.show()"
   ],
   "id": "5bcefce7a9cb6ec4",
   "outputs": [
    {
     "data": {
      "text/plain": [
       "<Figure size 800x600 with 1 Axes>"
      ],
      "image/png": "[encoded data removed]"
     },
     "metadata": {},
     "output_type": "display_data"
    }
   ],
   "execution_count": 9
  }
 ],
 "metadata": {
  "kernelspec": {
   "display_name": "Python 3",
   "language": "python",
   "name": "python3"
  },
  "language_info": {
   "codemirror_mode": {
    "name": "ipython",
    "version": 2
   },
   "file_extension": ".py",
   "mimetype": "text/x-python",
   "name": "python",
   "nbconvert_exporter": "python",
   "pygments_lexer": "ipython2",
   "version": "2.7.6"
  }
 },
 "nbformat": 4,
 "nbformat_minor": 5
}
