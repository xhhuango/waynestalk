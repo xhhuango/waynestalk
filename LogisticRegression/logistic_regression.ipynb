{
 "cells": [
  {
   "cell_type": "code",
   "id": "initial_id",
   "metadata": {
    "collapsed": true,
    "ExecuteTime": {
     "end_time": "2024-12-23T07:57:56.187390Z",
     "start_time": "2024-12-23T07:57:56.185408Z"
    }
   },
   "source": [
    "import matplotlib.pyplot as plt\n",
    "import numpy as np"
   ],
   "outputs": [],
   "execution_count": 80
  },
  {
   "metadata": {
    "ExecuteTime": {
     "end_time": "2024-12-23T07:57:56.192508Z",
     "start_time": "2024-12-23T07:57:56.190608Z"
    }
   },
   "cell_type": "code",
   "source": [
    "def sigmoid(z):\n",
    "    \"\"\"\n",
    "    Sigmoid function\n",
    "\n",
    "    Parameters\n",
    "    ----------\n",
    "    z: (ndarray (m,)) or (scalar)\n",
    "        m is the number of samples\n",
    "\n",
    "    Returns\n",
    "    -------\n",
    "    (ndarray (m,)) or (scalar)\n",
    "    \"\"\"\n",
    "\n",
    "    return 1 / (1 + np.exp(-z))\n",
    "\n",
    "\n",
    "def f_wb(x, w, b):\n",
    "    \"\"\"\n",
    "    Logistic regression model\n",
    "\n",
    "    Parameters\n",
    "    ----------\n",
    "    x: (ndarray (m)) or (scalar)\n",
    "        m is the number of samples\n",
    "    w: (scalar)\n",
    "    b: (scalar)\n",
    "\n",
    "    Returns\n",
    "    -------\n",
    "    (ndarray (m,)) or (scalar)\n",
    "    \"\"\"\n",
    "\n",
    "    return sigmoid(w * x + b)"
   ],
   "id": "9d9e20047fc2b849",
   "outputs": [],
   "execution_count": 81
  },
  {
   "metadata": {
    "ExecuteTime": {
     "end_time": "2024-12-23T07:57:56.199535Z",
     "start_time": "2024-12-23T07:57:56.197653Z"
    }
   },
   "cell_type": "code",
   "source": [
    "def compute_cost(x, y, w, b):\n",
    "    \"\"\"\n",
    "    Compute cost\n",
    "\n",
    "    Parameters\n",
    "    ----------\n",
    "    x: (ndarray (m, n))\n",
    "        m is the number of samples\n",
    "    y: (ndarray (m,))\n",
    "    w: (scalar)\n",
    "    b: (scalar)\n",
    "\n",
    "    Returns\n",
    "    -------\n",
    "    (scalar)\n",
    "    \"\"\"\n",
    "\n",
    "    m = x.shape[0]\n",
    "    y_hat = f_wb(x, w, b)\n",
    "    cost = 1 / m * np.sum(-y * np.log(y_hat) - (1 - y) * np.log(1 - y_hat))\n",
    "    return cost"
   ],
   "id": "aa94bac05120420f",
   "outputs": [],
   "execution_count": 82
  },
  {
   "metadata": {
    "ExecuteTime": {
     "end_time": "2024-12-23T07:57:56.205736Z",
     "start_time": "2024-12-23T07:57:56.203895Z"
    }
   },
   "cell_type": "code",
   "source": [
    "def compute_gradient(x, y, w, b):\n",
    "    \"\"\"\n",
    "    Compute the gradient for logistic regression\n",
    "\n",
    "    Parameters\n",
    "    ----------\n",
    "    x: (ndarray (m,))\n",
    "        m is the number of samples\n",
    "    y: (ndarray (m,))\n",
    "    w: (scalar)\n",
    "    b: (scalar)\n",
    "\n",
    "    Returns\n",
    "    -------\n",
    "    dj_dw: (scalar)\n",
    "    dj_db: (scalar)\n",
    "    \"\"\"\n",
    "\n",
    "    m = x.shape[0]\n",
    "    dj_dw = 1 / m * np.sum((f_wb(x, w, b) - y) * x)\n",
    "    dj_db = 1 / m * np.sum(f_wb(x, w, b) - y)\n",
    "    return dj_dw, dj_db"
   ],
   "id": "d47ffe15cb5d4f82",
   "outputs": [],
   "execution_count": 83
  },
  {
   "metadata": {
    "ExecuteTime": {
     "end_time": "2024-12-23T07:57:56.211849Z",
     "start_time": "2024-12-23T07:57:56.209791Z"
    }
   },
   "cell_type": "code",
   "source": [
    "def perform_gradient_descent(x, y, w_init, b_init, alpha, epochs):\n",
    "    \"\"\"\n",
    "    Perform gradient descent\n",
    "\n",
    "    Parameters\n",
    "    ----------\n",
    "    x: (ndarray (m))\n",
    "        m is the number of samples\n",
    "    y: (ndarray (m,))\n",
    "    w_init: (scalar)\n",
    "    b_init: (scalar)\n",
    "    alpha: (float)\n",
    "    epochs: (int)\n",
    "\n",
    "    Returns\n",
    "    -------\n",
    "    w: (scalar)\n",
    "    b: (scalar)\n",
    "    \"\"\"\n",
    "\n",
    "    w = w_init\n",
    "    b = b_init\n",
    "    for i in range(epochs):\n",
    "        dj_dw, dj_db = compute_gradient(x, y, w, b)\n",
    "        w -= alpha * dj_dw\n",
    "        b -= alpha * dj_db\n",
    "        if i % 1000 == 0:\n",
    "            print(f'Epoch {i + 1:4}, Cost: {float(compute_cost(x, y, w, b)):8.2f}')\n",
    "    return w, b"
   ],
   "id": "54a7b07ba201c23b",
   "outputs": [],
   "execution_count": 84
  },
  {
   "metadata": {
    "ExecuteTime": {
     "end_time": "2024-12-23T07:57:56.271341Z",
     "start_time": "2024-12-23T07:57:56.219242Z"
    }
   },
   "cell_type": "code",
   "source": [
    "x_train = np.array([1, 0, 17, 8, 13, 19, 15, 10, 8, 7, 3, 6, 17, 3, 4, 17, 11, 12, 16, 13])\n",
    "y_train = np.int_(x_train[:] >= 10)\n",
    "\n",
    "plt.scatter(x_train[y_train == 0], y_train[y_train == 0], 60, marker='^', c='c', label='y_train == 0')\n",
    "plt.scatter(x_train[y_train == 1], y_train[y_train == 1], 60, marker='o', c='m', label='y_train == 1')\n",
    "plt.xlabel('x_train[:,0]')\n",
    "plt.ylabel('x_train[:,1]')\n",
    "plt.legend()"
   ],
   "id": "ef434e9e2b630a50",
   "outputs": [
    {
     "data": {
      "text/plain": [
       "<matplotlib.legend.Legend at 0x1199365d0>"
      ]
     },
     "execution_count": 85,
     "metadata": {},
     "output_type": "execute_result"
    },
    {
     "data": {
      "text/plain": [
       "<Figure size 640x480 with 1 Axes>"
      ],
      "image/png": "[encoded data removed]"
     },
     "metadata": {},
     "output_type": "display_data"
    }
   ],
   "execution_count": 85
  },
  {
   "metadata": {
    "ExecuteTime": {
     "end_time": "2024-12-23T07:57:56.387375Z",
     "start_time": "2024-12-23T07:57:56.301517Z"
    }
   },
   "cell_type": "code",
   "source": [
    "w, b = perform_gradient_descent(x_train, y_train, 0, 0, 0.01, 10000)\n",
    "w, b"
   ],
   "id": "179ff941de89ffa8",
   "outputs": [
    {
     "name": "stdout",
     "output_type": "stream",
     "text": [
      "Epoch    1, Cost:     0.62\n",
      "Epoch 1001, Cost:     0.34\n",
      "Epoch 2001, Cost:     0.26\n",
      "Epoch 3001, Cost:     0.22\n",
      "Epoch 4001, Cost:     0.19\n",
      "Epoch 5001, Cost:     0.17\n",
      "Epoch 6001, Cost:     0.16\n",
      "Epoch 7001, Cost:     0.15\n",
      "Epoch 8001, Cost:     0.14\n",
      "Epoch 9001, Cost:     0.13\n"
     ]
    },
    {
     "data": {
      "text/plain": [
       "(np.float64(0.6199251592044446), np.float64(-5.42258186823073))"
      ]
     },
     "execution_count": 86,
     "metadata": {},
     "output_type": "execute_result"
    }
   ],
   "execution_count": 86
  },
  {
   "metadata": {
    "ExecuteTime": {
     "end_time": "2024-12-23T07:57:56.447339Z",
     "start_time": "2024-12-23T07:57:56.445039Z"
    }
   },
   "cell_type": "code",
   "source": [
    "prediction = f_wb(x_train, w, b)\n",
    "y_hat = np.int_(prediction > 0.5)\n",
    "(y_train, prediction, y_hat)"
   ],
   "id": "a281387ad3ac4a8d",
   "outputs": [
    {
     "data": {
      "text/plain": [
       "(array([0, 0, 1, 0, 1, 1, 1, 1, 0, 0, 0, 0, 1, 0, 0, 1, 1, 1, 1, 1]),\n",
       " array([0.00814109, 0.00439632, 0.99403667, 0.38623157, 0.93317062,\n",
       "        0.9982667 , 0.97969344, 0.68496192, 0.38623157, 0.25291873,\n",
       "        0.02757706, 0.15406982, 0.99403667, 0.02757706, 0.05007404,\n",
       "        0.99403667, 0.80164299, 0.88252069, 0.98897191, 0.93317062]),\n",
       " array([0, 0, 1, 0, 1, 1, 1, 1, 0, 0, 0, 0, 1, 0, 0, 1, 1, 1, 1, 1]))"
      ]
     },
     "execution_count": 87,
     "metadata": {},
     "output_type": "execute_result"
    }
   ],
   "execution_count": 87
  },
  {
   "metadata": {
    "ExecuteTime": {
     "end_time": "2024-12-23T07:57:56.578321Z",
     "start_time": "2024-12-23T07:57:56.524824Z"
    }
   },
   "cell_type": "code",
   "source": [
    "plt.scatter(x_train[y_hat == 0], y_train[y_hat == 0], 60, marker='^', c='c', label='y_hat == 0')\n",
    "plt.scatter(x_train[y_hat == 1], y_train[y_hat == 1], 60, marker='o', c='m', label='y_hat == 1')\n",
    "plt.xlabel('x_train[:,0]')\n",
    "plt.ylabel('x_train[:,1]')\n",
    "plt.legend()"
   ],
   "id": "1ad1c46491e79385",
   "outputs": [
    {
     "data": {
      "text/plain": [
       "<matplotlib.legend.Legend at 0x1199be990>"
      ]
     },
     "execution_count": 88,
     "metadata": {},
     "output_type": "execute_result"
    },
    {
     "data": {
      "text/plain": [
       "<Figure size 640x480 with 1 Axes>"
      ],
      "image/png": "[encoded data removed]"
     },
     "metadata": {},
     "output_type": "display_data"
    }
   ],
   "execution_count": 88
  }
 ],
 "metadata": {
  "kernelspec": {
   "display_name": "Python 3",
   "language": "python",
   "name": "python3"
  },
  "language_info": {
   "codemirror_mode": {
    "name": "ipython",
    "version": 2
   },
   "file_extension": ".py",
   "mimetype": "text/x-python",
   "name": "python",
   "nbconvert_exporter": "python",
   "pygments_lexer": "ipython2",
   "version": "2.7.6"
  }
 },
 "nbformat": 4,
 "nbformat_minor": 5
}
